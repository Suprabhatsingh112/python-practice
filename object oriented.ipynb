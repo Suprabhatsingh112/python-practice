{
 "cells": [
  {
   "cell_type": "code",
   "execution_count": 1,
   "id": "df6c15e4",
   "metadata": {},
   "outputs": [],
   "source": [
    "class Line:\n",
    "    \n",
    "    def __init__(self,coor1,coor2):\n",
    "        self.coor1=coor1\n",
    "        self.coor2=coor2\n",
    "    \n",
    "    def distance(self):\n",
    "        x1,y1= self.coor1\n",
    "        x2,y2= self.coor2\n",
    "        \n",
    "        return ((x1-x2)**2 + (y1-y2)**2)**0.5\n",
    "        \n",
    "    \n",
    "    def slope(self):\n",
    "        x1,y1 = self.coor1\n",
    "        x2,y2 = self.coor2\n",
    "        \n",
    "        return (y2-y1)/(x2-x1)\n",
    "    "
   ]
  },
  {
   "cell_type": "code",
   "execution_count": 2,
   "id": "0c975a8f",
   "metadata": {},
   "outputs": [],
   "source": [
    "c1=(4,6)\n",
    "c2=(5,9)"
   ]
  },
  {
   "cell_type": "code",
   "execution_count": 3,
   "id": "4dd6e6ae",
   "metadata": {},
   "outputs": [],
   "source": [
    "myline=Line(c1,c2)"
   ]
  },
  {
   "cell_type": "code",
   "execution_count": 4,
   "id": "ed2484b5",
   "metadata": {},
   "outputs": [
    {
     "data": {
      "text/plain": [
       "3.0"
      ]
     },
     "execution_count": 4,
     "metadata": {},
     "output_type": "execute_result"
    }
   ],
   "source": [
    "myline.slope()"
   ]
  },
  {
   "cell_type": "code",
   "execution_count": 5,
   "id": "c7e61d88",
   "metadata": {},
   "outputs": [
    {
     "data": {
      "text/plain": [
       "3.1622776601683795"
      ]
     },
     "execution_count": 5,
     "metadata": {},
     "output_type": "execute_result"
    }
   ],
   "source": [
    "myline.distance()"
   ]
  },
  {
   "cell_type": "code",
   "execution_count": 11,
   "id": "c18117bb",
   "metadata": {},
   "outputs": [],
   "source": [
    "c1=(3,2)\n",
    "c2=(8,10)\n"
   ]
  },
  {
   "cell_type": "code",
   "execution_count": 12,
   "id": "d9ac10cd",
   "metadata": {},
   "outputs": [],
   "source": [
    "myline=Line(c1,c2)"
   ]
  },
  {
   "cell_type": "code",
   "execution_count": 13,
   "id": "d0c759db",
   "metadata": {},
   "outputs": [
    {
     "data": {
      "text/plain": [
       "9.433981132056603"
      ]
     },
     "execution_count": 13,
     "metadata": {},
     "output_type": "execute_result"
    }
   ],
   "source": [
    "myline.distance()"
   ]
  },
  {
   "cell_type": "code",
   "execution_count": 14,
   "id": "137066f3",
   "metadata": {},
   "outputs": [
    {
     "data": {
      "text/plain": [
       "1.6"
      ]
     },
     "execution_count": 14,
     "metadata": {},
     "output_type": "execute_result"
    }
   ],
   "source": [
    "myline.slope()"
   ]
  },
  {
   "cell_type": "code",
   "execution_count": 19,
   "id": "1d30524a",
   "metadata": {},
   "outputs": [],
   "source": [
    "class Cylinder:\n",
    "    \n",
    "    def __init__(self,height=1,radius=1):\n",
    "        self.height=height\n",
    "        self.radius=radius\n",
    "        \n",
    "    def volume(self):\n",
    "        \n",
    "        return 3.14*(self.radius**2)*self.height\n",
    "    def surface_area(self):\n",
    "        \n",
    "        return 2*3.14*self.radius*self.height + 2*3.14*self.radius**2\n",
    "        "
   ]
  },
  {
   "cell_type": "code",
   "execution_count": 20,
   "id": "81879f52",
   "metadata": {},
   "outputs": [],
   "source": [
    "myclinder=Cylinder(5,3)"
   ]
  },
  {
   "cell_type": "code",
   "execution_count": 21,
   "id": "3023da0e",
   "metadata": {},
   "outputs": [
    {
     "data": {
      "text/plain": [
       "141.3"
      ]
     },
     "execution_count": 21,
     "metadata": {},
     "output_type": "execute_result"
    }
   ],
   "source": [
    "myclinder.volume()"
   ]
  },
  {
   "cell_type": "code",
   "execution_count": 22,
   "id": "0f8f3c6b",
   "metadata": {},
   "outputs": [
    {
     "data": {
      "text/plain": [
       "150.72"
      ]
     },
     "execution_count": 22,
     "metadata": {},
     "output_type": "execute_result"
    }
   ],
   "source": [
    "myclinder.surface_area()"
   ]
  },
  {
   "cell_type": "code",
   "execution_count": 23,
   "id": "e9f059f3",
   "metadata": {},
   "outputs": [],
   "source": [
    "myclinder=Cylinder(2,3)"
   ]
  },
  {
   "cell_type": "code",
   "execution_count": 25,
   "id": "24dfe661",
   "metadata": {},
   "outputs": [
    {
     "data": {
      "text/plain": [
       "56.52"
      ]
     },
     "execution_count": 25,
     "metadata": {},
     "output_type": "execute_result"
    }
   ],
   "source": [
    "myclinder.volume()"
   ]
  },
  {
   "cell_type": "code",
   "execution_count": 26,
   "id": "4a5e1648",
   "metadata": {},
   "outputs": [
    {
     "data": {
      "text/plain": [
       "94.2"
      ]
     },
     "execution_count": 26,
     "metadata": {},
     "output_type": "execute_result"
    }
   ],
   "source": [
    "myclinder.surface_area()"
   ]
  },
  {
   "cell_type": "code",
   "execution_count": 32,
   "id": "b8f85dc1",
   "metadata": {},
   "outputs": [],
   "source": [
    "class Simple:\n",
    "    def __init__(self,value):\n",
    "        self.value=value\n",
    "    \n",
    "    def add_to_value(self,amount):\n",
    "        \n",
    "        self.value=self.value+amount\n",
    "        print('we added {} to your account'.format(amount))\n",
    "    \n",
    "        "
   ]
  },
  {
   "cell_type": "code",
   "execution_count": 33,
   "id": "2a43b2f0",
   "metadata": {},
   "outputs": [],
   "source": [
    "myobj = Simple(300)"
   ]
  },
  {
   "cell_type": "code",
   "execution_count": 34,
   "id": "a11f7d76",
   "metadata": {},
   "outputs": [
    {
     "data": {
      "text/plain": [
       "300"
      ]
     },
     "execution_count": 34,
     "metadata": {},
     "output_type": "execute_result"
    }
   ],
   "source": [
    "myobj.value"
   ]
  },
  {
   "cell_type": "code",
   "execution_count": 35,
   "id": "4470b631",
   "metadata": {},
   "outputs": [
    {
     "name": "stdout",
     "output_type": "stream",
     "text": [
      "we added 500 to your account\n"
     ]
    }
   ],
   "source": [
    "myobj.add_to_value(500)"
   ]
  },
  {
   "cell_type": "code",
   "execution_count": 36,
   "id": "dcffdd1f",
   "metadata": {},
   "outputs": [
    {
     "data": {
      "text/plain": [
       "800"
      ]
     },
     "execution_count": 36,
     "metadata": {},
     "output_type": "execute_result"
    }
   ],
   "source": [
    "myobj.value"
   ]
  },
  {
   "cell_type": "code",
   "execution_count": 16,
   "id": "cd568122",
   "metadata": {},
   "outputs": [],
   "source": [
    "class Amount():\n",
    "    def __init__(self,owner,balance=0):\n",
    "        self.owner=owner\n",
    "        self.balance=balance\n",
    "    \n",
    "    def deposit(self,dep_amt):\n",
    "        self.balance=self.balance+dep_amt\n",
    "        print('Added {} to the amount'.format(dep_amt))\n",
    "    \n",
    "    def withdrawal(self,wd_amt):\n",
    "        \n",
    "        if self.balance>=wd_amt:\n",
    "            self.balance=self.balance-wd_amt\n",
    "            print(\"withdrawal accepted\")\n",
    "        else:\n",
    "            print(\"sorry insuficient balance\")\n",
    "    def __str__(self):\n",
    "        \n",
    "        return f'owner : {self.owner} \\nBalance : {self.balance}'\n",
    "        \n",
    "        \n",
    "        "
   ]
  },
  {
   "cell_type": "code",
   "execution_count": 17,
   "id": "7f551328",
   "metadata": {},
   "outputs": [],
   "source": [
    "account=Amount('ram',500)"
   ]
  },
  {
   "cell_type": "code",
   "execution_count": 18,
   "id": "5633102a",
   "metadata": {},
   "outputs": [
    {
     "name": "stdout",
     "output_type": "stream",
     "text": [
      "Added 500 to the amount\n"
     ]
    }
   ],
   "source": [
    "account.deposit(500)"
   ]
  },
  {
   "cell_type": "code",
   "execution_count": 19,
   "id": "246c9d43",
   "metadata": {},
   "outputs": [
    {
     "data": {
      "text/plain": [
       "1000"
      ]
     },
     "execution_count": 19,
     "metadata": {},
     "output_type": "execute_result"
    }
   ],
   "source": [
    "account.balance"
   ]
  },
  {
   "cell_type": "code",
   "execution_count": 20,
   "id": "29b66462",
   "metadata": {},
   "outputs": [
    {
     "name": "stdout",
     "output_type": "stream",
     "text": [
      "owner : ram \n",
      "Balance : 1000\n"
     ]
    }
   ],
   "source": [
    "print(account)"
   ]
  },
  {
   "cell_type": "code",
   "execution_count": 21,
   "id": "dd4252d0",
   "metadata": {},
   "outputs": [
    {
     "name": "stdout",
     "output_type": "stream",
     "text": [
      "sorry insuficient balance\n"
     ]
    }
   ],
   "source": [
    "account.withdrawal(1500)"
   ]
  },
  {
   "cell_type": "code",
   "execution_count": 22,
   "id": "ce46769b",
   "metadata": {},
   "outputs": [
    {
     "name": "stdout",
     "output_type": "stream",
     "text": [
      "withdrawal accepted\n"
     ]
    }
   ],
   "source": [
    "account.withdrawal(101)"
   ]
  },
  {
   "cell_type": "code",
   "execution_count": 23,
   "id": "b1ae7c42",
   "metadata": {},
   "outputs": [
    {
     "name": "stdout",
     "output_type": "stream",
     "text": [
      "owner : ram \n",
      "Balance : 899\n"
     ]
    }
   ],
   "source": [
    "print(account)"
   ]
  },
  {
   "cell_type": "code",
   "execution_count": null,
   "id": "a650d791",
   "metadata": {},
   "outputs": [],
   "source": []
  },
  {
   "cell_type": "code",
   "execution_count": null,
   "id": "38f882c0",
   "metadata": {},
   "outputs": [],
   "source": []
  }
 ],
 "metadata": {
  "kernelspec": {
   "display_name": "Python 3 (ipykernel)",
   "language": "python",
   "name": "python3"
  },
  "language_info": {
   "codemirror_mode": {
    "name": "ipython",
    "version": 3
   },
   "file_extension": ".py",
   "mimetype": "text/x-python",
   "name": "python",
   "nbconvert_exporter": "python",
   "pygments_lexer": "ipython3",
   "version": "3.9.12"
  }
 },
 "nbformat": 4,
 "nbformat_minor": 5
}
