{
 "cells": [
  {
   "cell_type": "code",
   "execution_count": 1,
   "id": "e0505a8b",
   "metadata": {},
   "outputs": [],
   "source": [
    "def vol(rad):\n",
    "    return (4/3)*(3.14)*(rad**3)"
   ]
  },
  {
   "cell_type": "code",
   "execution_count": 2,
   "id": "779c0461",
   "metadata": {},
   "outputs": [
    {
     "data": {
      "text/plain": [
       "523.3333333333334"
      ]
     },
     "execution_count": 2,
     "metadata": {},
     "output_type": "execute_result"
    }
   ],
   "source": [
    "vol(5)"
   ]
  },
  {
   "cell_type": "code",
   "execution_count": 7,
   "id": "9e6655b2",
   "metadata": {},
   "outputs": [],
   "source": [
    "def ran_check(num,low,high):\n",
    "    return num in range(low,high+1)"
   ]
  },
  {
   "cell_type": "code",
   "execution_count": 5,
   "id": "412f018e",
   "metadata": {},
   "outputs": [
    {
     "data": {
      "text/plain": [
       "True"
      ]
     },
     "execution_count": 5,
     "metadata": {},
     "output_type": "execute_result"
    }
   ],
   "source": [
    "ran_check(4,1,5)"
   ]
  },
  {
   "cell_type": "code",
   "execution_count": 8,
   "id": "01c36d1a",
   "metadata": {},
   "outputs": [],
   "source": [
    "def u_low(s):\n",
    "    lowercase=0\n",
    "    uppercase=0\n",
    "    \n",
    "    for char in s:\n",
    "        if char.isupper():\n",
    "            uppercase += 1\n",
    "        elif char.islower():\n",
    "            lowercase +=1\n",
    "        else:\n",
    "            pass\n",
    "    \n",
    "    print(f'the original string {s}')\n",
    "    print(f'lower case character = {lowercase}')\n",
    "    print(f'upper case character = {uppercase}')\n",
    "        "
   ]
  },
  {
   "cell_type": "code",
   "execution_count": 9,
   "id": "a657afb1",
   "metadata": {},
   "outputs": [
    {
     "name": "stdout",
     "output_type": "stream",
     "text": [
      "the original string BN jdkd JKK ekeo\n",
      "lower case character = 8\n",
      "upper case character = 5\n"
     ]
    }
   ],
   "source": [
    "u_low('BN jdkd JKK ekeo')"
   ]
  },
  {
   "cell_type": "code",
   "execution_count": null,
   "id": "c41564ca",
   "metadata": {},
   "outputs": [],
   "source": [
    "def unique_list(mylist):\n",
    "    return list(set(mylist))"
   ]
  },
  {
   "cell_type": "code",
   "execution_count": 14,
   "id": "9010529e",
   "metadata": {},
   "outputs": [],
   "source": [
    "def multiply(numbers):\n",
    "    total=1\n",
    "    for num in numbers:\n",
    "        total = total * num\n",
    "    return total"
   ]
  },
  {
   "cell_type": "code",
   "execution_count": 15,
   "id": "937c95d1",
   "metadata": {},
   "outputs": [
    {
     "data": {
      "text/plain": [
       "8640"
      ]
     },
     "execution_count": 15,
     "metadata": {},
     "output_type": "execute_result"
    }
   ],
   "source": [
    "multiply([4,5,6,9,8])"
   ]
  },
  {
   "cell_type": "code",
   "execution_count": 22,
   "id": "86fc598b",
   "metadata": {},
   "outputs": [],
   "source": [
    "def palindrome(s):\n",
    "    s=s.replace(' ','')\n",
    "    return s==s[::-1]"
   ]
  },
  {
   "cell_type": "code",
   "execution_count": 24,
   "id": "04c1ecb3",
   "metadata": {},
   "outputs": [
    {
     "data": {
      "text/plain": [
       "True"
      ]
     },
     "execution_count": 24,
     "metadata": {},
     "output_type": "execute_result"
    }
   ],
   "source": [
    "palindrome('nurses run')"
   ]
  },
  {
   "cell_type": "code",
   "execution_count": 29,
   "id": "d0ffb354",
   "metadata": {},
   "outputs": [],
   "source": [
    "import string\n",
    "def ispangram(str1,alphabet=string.ascii_lowercase):\n",
    "    alphaset = set(alphabet)\n",
    "    str1=str1.replace(' ','')\n",
    "    str1=str1.lower()\n",
    "    str1=set(str1)\n",
    "    return str1 == alphaset\n"
   ]
  },
  {
   "cell_type": "code",
   "execution_count": 30,
   "id": "96894e24",
   "metadata": {},
   "outputs": [
    {
     "data": {
      "text/plain": [
       "True"
      ]
     },
     "execution_count": 30,
     "metadata": {},
     "output_type": "execute_result"
    }
   ],
   "source": [
    "ispangram('the quick brown fox jumpsmover the lazy dog')"
   ]
  },
  {
   "cell_type": "code",
   "execution_count": null,
   "id": "23435513",
   "metadata": {},
   "outputs": [],
   "source": []
  }
 ],
 "metadata": {
  "kernelspec": {
   "display_name": "Python 3 (ipykernel)",
   "language": "python",
   "name": "python3"
  },
  "language_info": {
   "codemirror_mode": {
    "name": "ipython",
    "version": 3
   },
   "file_extension": ".py",
   "mimetype": "text/x-python",
   "name": "python",
   "nbconvert_exporter": "python",
   "pygments_lexer": "ipython3",
   "version": "3.9.12"
  }
 },
 "nbformat": 4,
 "nbformat_minor": 5
}
