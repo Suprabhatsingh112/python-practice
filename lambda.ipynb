{
 "cells": [
  {
   "cell_type": "code",
   "execution_count": 3,
   "id": "8afb6c09",
   "metadata": {},
   "outputs": [],
   "source": [
    "def square(num):\n",
    "    return num**2\n",
    "    "
   ]
  },
  {
   "cell_type": "code",
   "execution_count": 4,
   "id": "4c14abc1",
   "metadata": {},
   "outputs": [],
   "source": [
    "my_nums = [1,2,3,4,5]"
   ]
  },
  {
   "cell_type": "code",
   "execution_count": 5,
   "id": "8ba863f4",
   "metadata": {},
   "outputs": [
    {
     "name": "stdout",
     "output_type": "stream",
     "text": [
      "1\n",
      "4\n",
      "9\n",
      "16\n",
      "25\n"
     ]
    }
   ],
   "source": [
    "for item in map(square,my_nums):\n",
    "    print(item)"
   ]
  },
  {
   "cell_type": "code",
   "execution_count": 7,
   "id": "78ec2d20",
   "metadata": {},
   "outputs": [
    {
     "data": {
      "text/plain": [
       "[1, 4, 9, 16, 25]"
      ]
     },
     "execution_count": 7,
     "metadata": {},
     "output_type": "execute_result"
    }
   ],
   "source": [
    "list(map(square,my_nums))"
   ]
  },
  {
   "cell_type": "code",
   "execution_count": 8,
   "id": "fa8d411f",
   "metadata": {},
   "outputs": [],
   "source": [
    "def splicer(string):\n",
    "    if len(string)%2 == 0:\n",
    "        return \"even string\"\n",
    "    else:\n",
    "        return string[0]"
   ]
  },
  {
   "cell_type": "code",
   "execution_count": 9,
   "id": "1e72a18e",
   "metadata": {},
   "outputs": [],
   "source": [
    "names = ['cndkdk','didk','eoeo']"
   ]
  },
  {
   "cell_type": "code",
   "execution_count": 10,
   "id": "3c333546",
   "metadata": {},
   "outputs": [
    {
     "data": {
      "text/plain": [
       "['even string', 'even string', 'even string']"
      ]
     },
     "execution_count": 10,
     "metadata": {},
     "output_type": "execute_result"
    }
   ],
   "source": [
    "list(map(splicer,names))"
   ]
  },
  {
   "cell_type": "code",
   "execution_count": 13,
   "id": "93afc06a",
   "metadata": {},
   "outputs": [],
   "source": [
    "def check_even(num):\n",
    "    return num%2==0"
   ]
  },
  {
   "cell_type": "code",
   "execution_count": 14,
   "id": "99e2d63f",
   "metadata": {},
   "outputs": [],
   "source": [
    "mylist=[1,2,3,6,5,4,7,9]"
   ]
  },
  {
   "cell_type": "code",
   "execution_count": 15,
   "id": "5f8d6f0b",
   "metadata": {},
   "outputs": [
    {
     "data": {
      "text/plain": [
       "[2, 6, 4]"
      ]
     },
     "execution_count": 15,
     "metadata": {},
     "output_type": "execute_result"
    }
   ],
   "source": [
    "list(filter(check_even,mylist))"
   ]
  },
  {
   "cell_type": "code",
   "execution_count": 17,
   "id": "1b487f95",
   "metadata": {},
   "outputs": [
    {
     "name": "stdout",
     "output_type": "stream",
     "text": [
      "2\n",
      "6\n",
      "4\n"
     ]
    }
   ],
   "source": [
    "for n in filter(check_even,mylist):\n",
    "    print(n) "
   ]
  },
  {
   "cell_type": "code",
   "execution_count": 18,
   "id": "7105c687",
   "metadata": {},
   "outputs": [],
   "source": [
    "square = lambda num: num**2"
   ]
  },
  {
   "cell_type": "code",
   "execution_count": 19,
   "id": "214bbb64",
   "metadata": {},
   "outputs": [
    {
     "data": {
      "text/plain": [
       "25"
      ]
     },
     "execution_count": 19,
     "metadata": {},
     "output_type": "execute_result"
    }
   ],
   "source": [
    "square(5)"
   ]
  },
  {
   "cell_type": "code",
   "execution_count": 20,
   "id": "90d178dd",
   "metadata": {},
   "outputs": [],
   "source": [
    "mylist=[44,77,88,99]"
   ]
  },
  {
   "cell_type": "code",
   "execution_count": 21,
   "id": "261064db",
   "metadata": {},
   "outputs": [
    {
     "data": {
      "text/plain": [
       "[1936, 5929, 7744, 9801]"
      ]
     },
     "execution_count": 21,
     "metadata": {},
     "output_type": "execute_result"
    }
   ],
   "source": [
    "list(map(lambda num:num**2,mylist))"
   ]
  },
  {
   "cell_type": "code",
   "execution_count": 22,
   "id": "f653cca5",
   "metadata": {},
   "outputs": [
    {
     "data": {
      "text/plain": [
       "[544, 577, 588, 599]"
      ]
     },
     "execution_count": 22,
     "metadata": {},
     "output_type": "execute_result"
    }
   ],
   "source": [
    "list(map(lambda num:num+500,mylist))"
   ]
  },
  {
   "cell_type": "code",
   "execution_count": 23,
   "id": "4a664fb9",
   "metadata": {},
   "outputs": [
    {
     "name": "stdout",
     "output_type": "stream",
     "text": [
      "1936\n",
      "5929\n",
      "7744\n",
      "9801\n"
     ]
    }
   ],
   "source": [
    "for n in map(lambda num:num**2,mylist):\n",
    "    print(n)\n"
   ]
  },
  {
   "cell_type": "code",
   "execution_count": 24,
   "id": "31c9d55e",
   "metadata": {},
   "outputs": [
    {
     "data": {
      "text/plain": [
       "[44, 88]"
      ]
     },
     "execution_count": 24,
     "metadata": {},
     "output_type": "execute_result"
    }
   ],
   "source": [
    "list(filter(lambda num: num%2==0,mylist))"
   ]
  },
  {
   "cell_type": "code",
   "execution_count": 26,
   "id": "2a649368",
   "metadata": {},
   "outputs": [
    {
     "name": "stdout",
     "output_type": "stream",
     "text": [
      "44\n",
      "88\n"
     ]
    }
   ],
   "source": [
    "for n in filter(lambda num:num%2==0,mylist):\n",
    "    print(n)"
   ]
  },
  {
   "cell_type": "code",
   "execution_count": 30,
   "id": "631fb0b0",
   "metadata": {},
   "outputs": [],
   "source": [
    "mylist = ['azxc','dld59ld']"
   ]
  },
  {
   "cell_type": "code",
   "execution_count": 31,
   "id": "4e3de0a6",
   "metadata": {},
   "outputs": [
    {
     "data": {
      "text/plain": [
       "['a', 'd']"
      ]
     },
     "execution_count": 31,
     "metadata": {},
     "output_type": "execute_result"
    }
   ],
   "source": [
    "list(map(lambda string:string[0],mylist))"
   ]
  },
  {
   "cell_type": "code",
   "execution_count": 32,
   "id": "a639d39b",
   "metadata": {},
   "outputs": [
    {
     "data": {
      "text/plain": [
       "['cxza', 'dl95dld']"
      ]
     },
     "execution_count": 32,
     "metadata": {},
     "output_type": "execute_result"
    }
   ],
   "source": [
    "list(map(lambda string:string[::-1],mylist))"
   ]
  },
  {
   "cell_type": "code",
   "execution_count": null,
   "id": "6dd59308",
   "metadata": {},
   "outputs": [],
   "source": []
  }
 ],
 "metadata": {
  "kernelspec": {
   "display_name": "Python 3 (ipykernel)",
   "language": "python",
   "name": "python3"
  },
  "language_info": {
   "codemirror_mode": {
    "name": "ipython",
    "version": 3
   },
   "file_extension": ".py",
   "mimetype": "text/x-python",
   "name": "python",
   "nbconvert_exporter": "python",
   "pygments_lexer": "ipython3",
   "version": "3.9.12"
  }
 },
 "nbformat": 4,
 "nbformat_minor": 5
}
