{
 "cells": [
  {
   "cell_type": "code",
   "execution_count": 11,
   "id": "d7e40eb0",
   "metadata": {},
   "outputs": [],
   "source": [
    "def myfunc(a,b):\n",
    "    # return 5% of the sum of a and b\n",
    "    return sum((a,b))*0.05"
   ]
  },
  {
   "cell_type": "code",
   "execution_count": 12,
   "id": "b4e8e666",
   "metadata": {},
   "outputs": [
    {
     "data": {
      "text/plain": [
       "6.0"
      ]
     },
     "execution_count": 12,
     "metadata": {},
     "output_type": "execute_result"
    }
   ],
   "source": [
    "myfunc(100,20)"
   ]
  },
  {
   "cell_type": "code",
   "execution_count": 13,
   "id": "b07dea71",
   "metadata": {},
   "outputs": [],
   "source": [
    "def myfunc(a,b,c,d=0,e=0):\n",
    "    return sum((a,b,c,d,e))*0.5"
   ]
  },
  {
   "cell_type": "code",
   "execution_count": 15,
   "id": "0859432b",
   "metadata": {},
   "outputs": [
    {
     "data": {
      "text/plain": [
       "30.0"
      ]
     },
     "execution_count": 15,
     "metadata": {},
     "output_type": "execute_result"
    }
   ],
   "source": [
    "myfunc(10,20,30)  #d=0,e=0 by default"
   ]
  },
  {
   "cell_type": "code",
   "execution_count": 16,
   "id": "e032f39d",
   "metadata": {},
   "outputs": [
    {
     "data": {
      "text/plain": [
       "75.0"
      ]
     },
     "execution_count": 16,
     "metadata": {},
     "output_type": "execute_result"
    }
   ],
   "source": [
    "myfunc(10,20,30,40,50)"
   ]
  },
  {
   "cell_type": "code",
   "execution_count": 19,
   "id": "061f3465",
   "metadata": {},
   "outputs": [],
   "source": [
    "def myfunc1(*args):  #returns tuple\n",
    "    return sum(args)*0.5"
   ]
  },
  {
   "cell_type": "code",
   "execution_count": 20,
   "id": "806d1c0d",
   "metadata": {},
   "outputs": [
    {
     "data": {
      "text/plain": [
       "30.0"
      ]
     },
     "execution_count": 20,
     "metadata": {},
     "output_type": "execute_result"
    }
   ],
   "source": [
    "myfunc1(10,20,30)  #*args allows\\takes unlimted argument"
   ]
  },
  {
   "cell_type": "code",
   "execution_count": 2,
   "id": "3f3658cf",
   "metadata": {},
   "outputs": [],
   "source": [
    "def myfunc2(*args):\n",
    "    for item in args:\n",
    "        print(item)"
   ]
  },
  {
   "cell_type": "code",
   "execution_count": 3,
   "id": "7b714fdd",
   "metadata": {},
   "outputs": [
    {
     "name": "stdout",
     "output_type": "stream",
     "text": [
      "1\n",
      "2\n",
      "3\n",
      "4\n"
     ]
    }
   ],
   "source": [
    "myfunc2(1,2,3,4)"
   ]
  },
  {
   "cell_type": "code",
   "execution_count": 8,
   "id": "1d0edc9a",
   "metadata": {},
   "outputs": [],
   "source": [
    "def myfunc(**kwargs):  #return dictionary\n",
    "    print(kwargs)\n",
    "    if 'fruit' in kwargs:\n",
    "        print('my fruit of chice is {}'.format(kwargs['fruit']))\n",
    "    else:\n",
    "        print('i did not find any fruit here')\n",
    "            "
   ]
  },
  {
   "cell_type": "code",
   "execution_count": 9,
   "id": "4e165e6f",
   "metadata": {},
   "outputs": [
    {
     "name": "stdout",
     "output_type": "stream",
     "text": [
      "{'fruit': 'apple', 'vegitable': 'tomato'}\n",
      "my fruit of chice is apple\n"
     ]
    }
   ],
   "source": [
    "myfunc(fruit='apple',vegitable='tomato')"
   ]
  },
  {
   "cell_type": "code",
   "execution_count": 14,
   "id": "ade9ddf3",
   "metadata": {},
   "outputs": [],
   "source": [
    "def myfunc(*args,**kwargs):\n",
    "    print(args)\n",
    "    print(kwargs)\n",
    "    print('i like {}   {}  {}'.format(args[1],kwargs['city'],kwargs['river']))\n",
    "    "
   ]
  },
  {
   "cell_type": "code",
   "execution_count": 15,
   "id": "760a3960",
   "metadata": {},
   "outputs": [
    {
     "name": "stdout",
     "output_type": "stream",
     "text": [
      "('USA', 'UK', 'ITLY')\n",
      "{'city': 'london', 'river': 'themes'}\n",
      "i like UK   london  themes\n"
     ]
    }
   ],
   "source": [
    "myfunc('USA','UK','ITLY',city='london',river='themes')"
   ]
  },
  {
   "cell_type": "code",
   "execution_count": 16,
   "id": "ca0c88ee",
   "metadata": {},
   "outputs": [
    {
     "name": "stdout",
     "output_type": "stream",
     "text": [
      "🐈\n"
     ]
    }
   ],
   "source": [
    "print(\"\\N{cat}\")"
   ]
  },
  {
   "cell_type": "code",
   "execution_count": 18,
   "id": "608fb5db",
   "metadata": {},
   "outputs": [
    {
     "name": "stdout",
     "output_type": "stream",
     "text": [
      "🐕\n"
     ]
    }
   ],
   "source": [
    "print(\"\\N{dog}\")"
   ]
  },
  {
   "cell_type": "code",
   "execution_count": 19,
   "id": "d2a6b2dd",
   "metadata": {},
   "outputs": [
    {
     "name": "stdout",
     "output_type": "stream",
     "text": [
      "🐅\n"
     ]
    }
   ],
   "source": [
    "print(\"\\N{tiger}\")"
   ]
  },
  {
   "cell_type": "code",
   "execution_count": 20,
   "id": "5a529ee4",
   "metadata": {},
   "outputs": [
    {
     "name": "stdout",
     "output_type": "stream",
     "text": [
      "🐎\n"
     ]
    }
   ],
   "source": [
    "print(\"\\N{horse}\")"
   ]
  },
  {
   "cell_type": "code",
   "execution_count": 21,
   "id": "2eec5c79",
   "metadata": {},
   "outputs": [],
   "source": [
    "def lesser_of_evens(a,b):\n",
    "    if a%2 ==0 and b%2==0:\n",
    "        if a > b:\n",
    "            return b\n",
    "        else:\n",
    "            return a\n",
    "    else:\n",
    "        if a >b:\n",
    "            return a\n",
    "        else:\n",
    "            return b"
   ]
  },
  {
   "cell_type": "code",
   "execution_count": 22,
   "id": "81b3cdf8",
   "metadata": {},
   "outputs": [
    {
     "data": {
      "text/plain": [
       "10"
      ]
     },
     "execution_count": 22,
     "metadata": {},
     "output_type": "execute_result"
    }
   ],
   "source": [
    "lesser_of_evens(10,20)"
   ]
  },
  {
   "cell_type": "code",
   "execution_count": 23,
   "id": "66ae8842",
   "metadata": {},
   "outputs": [
    {
     "data": {
      "text/plain": [
       "10"
      ]
     },
     "execution_count": 23,
     "metadata": {},
     "output_type": "execute_result"
    }
   ],
   "source": [
    "lesser_of_evens(5,10)"
   ]
  },
  {
   "cell_type": "code",
   "execution_count": 24,
   "id": "9c11b9fc",
   "metadata": {},
   "outputs": [],
   "source": [
    "def lesser_of_evens(a,b):\n",
    "    if a%2==0 and b%2==0:\n",
    "        return min(a,b)\n",
    "    else:\n",
    "        return max(a,b)"
   ]
  },
  {
   "cell_type": "code",
   "execution_count": 26,
   "id": "75f7fc46",
   "metadata": {},
   "outputs": [
    {
     "data": {
      "text/plain": [
       "20"
      ]
     },
     "execution_count": 26,
     "metadata": {},
     "output_type": "execute_result"
    }
   ],
   "source": [
    "lesser_of_evens(1,20)"
   ]
  },
  {
   "cell_type": "code",
   "execution_count": 31,
   "id": "cdd1ba7b",
   "metadata": {},
   "outputs": [],
   "source": [
    "def animal_crackers(text):\n",
    "    wordlist= text.lower().split()\n",
    "    \n",
    "    first=wordlist[0]\n",
    "    second=wordlist[1]\n",
    "    \n",
    "    return first[0]==second[0]"
   ]
  },
  {
   "cell_type": "code",
   "execution_count": 32,
   "id": "932ed5a5",
   "metadata": {},
   "outputs": [
    {
     "data": {
      "text/plain": [
       "True"
      ]
     },
     "execution_count": 32,
     "metadata": {},
     "output_type": "execute_result"
    }
   ],
   "source": [
    "animal_crackers('dog donkey')"
   ]
  },
  {
   "cell_type": "code",
   "execution_count": 35,
   "id": "bf94bcc6",
   "metadata": {},
   "outputs": [
    {
     "data": {
      "text/plain": [
       "'dog donkey'"
      ]
     },
     "execution_count": 35,
     "metadata": {},
     "output_type": "execute_result"
    }
   ],
   "source": [
    "'dog donkey'.strip()"
   ]
  },
  {
   "cell_type": "code",
   "execution_count": 40,
   "id": "61ba835a",
   "metadata": {},
   "outputs": [],
   "source": [
    "def animal_crackers(text):\n",
    "    wordlist=text.lower().split()\n",
    "    \n",
    "    return wordlist[0][0]==wordlist[1][0]"
   ]
  },
  {
   "cell_type": "code",
   "execution_count": 41,
   "id": "daeb35d5",
   "metadata": {},
   "outputs": [
    {
     "data": {
      "text/plain": [
       "True"
      ]
     },
     "execution_count": 41,
     "metadata": {},
     "output_type": "execute_result"
    }
   ],
   "source": [
    "animal_crackers('hjk Hyu')"
   ]
  },
  {
   "cell_type": "code",
   "execution_count": 43,
   "id": "1b4c2a03",
   "metadata": {},
   "outputs": [],
   "source": [
    "def makes_twenty(a,b):\n",
    "    if a+b==20 :\n",
    "        return True\n",
    "    elif a==20 or b==20:\n",
    "        return True\n",
    "    else:\n",
    "        return False"
   ]
  },
  {
   "cell_type": "code",
   "execution_count": 46,
   "id": "12978e1c",
   "metadata": {},
   "outputs": [
    {
     "data": {
      "text/plain": [
       "False"
      ]
     },
     "execution_count": 46,
     "metadata": {},
     "output_type": "execute_result"
    }
   ],
   "source": [
    "makes_twenty(80,10)"
   ]
  },
  {
   "cell_type": "code",
   "execution_count": 47,
   "id": "5de94456",
   "metadata": {},
   "outputs": [],
   "source": [
    "def makes_twenty(a,b):\n",
    "    return (a+b)==20 or a==20 or b==20\n"
   ]
  },
  {
   "cell_type": "code",
   "execution_count": 48,
   "id": "4f37b09b",
   "metadata": {},
   "outputs": [
    {
     "data": {
      "text/plain": [
       "False"
      ]
     },
     "execution_count": 48,
     "metadata": {},
     "output_type": "execute_result"
    }
   ],
   "source": [
    "makes_twenty(25,10)"
   ]
  },
  {
   "cell_type": "code",
   "execution_count": null,
   "id": "1fe0dd5d",
   "metadata": {},
   "outputs": [],
   "source": []
  },
  {
   "cell_type": "code",
   "execution_count": null,
   "id": "101718ea",
   "metadata": {},
   "outputs": [],
   "source": []
  },
  {
   "cell_type": "code",
   "execution_count": null,
   "id": "83f08636",
   "metadata": {},
   "outputs": [],
   "source": []
  },
  {
   "cell_type": "code",
   "execution_count": null,
   "id": "d5e61fde",
   "metadata": {},
   "outputs": [],
   "source": []
  },
  {
   "cell_type": "code",
   "execution_count": null,
   "id": "46ac5042",
   "metadata": {},
   "outputs": [],
   "source": []
  },
  {
   "cell_type": "code",
   "execution_count": null,
   "id": "a83be310",
   "metadata": {},
   "outputs": [],
   "source": []
  },
  {
   "cell_type": "code",
   "execution_count": null,
   "id": "66973b17",
   "metadata": {},
   "outputs": [],
   "source": []
  },
  {
   "cell_type": "code",
   "execution_count": null,
   "id": "8a64f741",
   "metadata": {},
   "outputs": [],
   "source": []
  },
  {
   "cell_type": "code",
   "execution_count": 21,
   "id": "9c8a9d10",
   "metadata": {},
   "outputs": [
    {
     "data": {
      "text/plain": [
       "225.0"
      ]
     },
     "execution_count": 21,
     "metadata": {},
     "output_type": "execute_result"
    }
   ],
   "source": []
  },
  {
   "cell_type": "code",
   "execution_count": null,
   "id": "4934822f",
   "metadata": {},
   "outputs": [],
   "source": []
  },
  {
   "cell_type": "code",
   "execution_count": null,
   "id": "149609b5",
   "metadata": {},
   "outputs": [],
   "source": []
  },
  {
   "cell_type": "code",
   "execution_count": null,
   "id": "58e4cdd2",
   "metadata": {},
   "outputs": [],
   "source": []
  },
  {
   "cell_type": "code",
   "execution_count": null,
   "id": "512b2d56",
   "metadata": {},
   "outputs": [],
   "source": []
  }
 ],
 "metadata": {
  "kernelspec": {
   "display_name": "Python 3 (ipykernel)",
   "language": "python",
   "name": "python3"
  },
  "language_info": {
   "codemirror_mode": {
    "name": "ipython",
    "version": 3
   },
   "file_extension": ".py",
   "mimetype": "text/x-python",
   "name": "python",
   "nbconvert_exporter": "python",
   "pygments_lexer": "ipython3",
   "version": "3.9.12"
  }
 },
 "nbformat": 4,
 "nbformat_minor": 5
}
