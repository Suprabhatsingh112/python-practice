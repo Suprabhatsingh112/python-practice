{
 "cells": [
  {
   "cell_type": "code",
   "execution_count": 11,
   "id": "22307ebb",
   "metadata": {},
   "outputs": [],
   "source": [
    "def myfunc(a,b):\n",
    "    # return 5% of the sum of a and b\n",
    "    return sum((a,b))*0.05"
   ]
  },
  {
   "cell_type": "code",
   "execution_count": 12,
   "id": "8afb4f69",
   "metadata": {},
   "outputs": [
    {
     "data": {
      "text/plain": [
       "6.0"
      ]
     },
     "execution_count": 12,
     "metadata": {},
     "output_type": "execute_result"
    }
   ],
   "source": [
    "myfunc(100,20)"
   ]
  },
  {
   "cell_type": "code",
   "execution_count": 13,
   "id": "2170929a",
   "metadata": {},
   "outputs": [],
   "source": [
    "def myfunc(a,b,c,d=0,e=0):\n",
    "    return sum((a,b,c,d,e))*0.5"
   ]
  },
  {
   "cell_type": "code",
   "execution_count": 15,
   "id": "f2d8e6ed",
   "metadata": {},
   "outputs": [
    {
     "data": {
      "text/plain": [
       "30.0"
      ]
     },
     "execution_count": 15,
     "metadata": {},
     "output_type": "execute_result"
    }
   ],
   "source": [
    "myfunc(10,20,30)  #d=0,e=0 by default"
   ]
  },
  {
   "cell_type": "code",
   "execution_count": 16,
   "id": "3501517c",
   "metadata": {},
   "outputs": [
    {
     "data": {
      "text/plain": [
       "75.0"
      ]
     },
     "execution_count": 16,
     "metadata": {},
     "output_type": "execute_result"
    }
   ],
   "source": [
    "myfunc(10,20,30,40,50)"
   ]
  },
  {
   "cell_type": "code",
   "execution_count": 19,
   "id": "e47f1d10",
   "metadata": {},
   "outputs": [],
   "source": [
    "def myfunc1(*args):  #returns tuple\n",
    "    return sum(args)*0.5"
   ]
  },
  {
   "cell_type": "code",
   "execution_count": 20,
   "id": "769169c7",
   "metadata": {},
   "outputs": [
    {
     "data": {
      "text/plain": [
       "30.0"
      ]
     },
     "execution_count": 20,
     "metadata": {},
     "output_type": "execute_result"
    }
   ],
   "source": [
    "myfunc1(10,20,30)  #*args allows\\takes unlimted argument"
   ]
  },
  {
   "cell_type": "code",
   "execution_count": 2,
   "id": "70f7ad08",
   "metadata": {},
   "outputs": [],
   "source": [
    "def myfunc2(*args):\n",
    "    for item in args:\n",
    "        print(item)"
   ]
  },
  {
   "cell_type": "code",
   "execution_count": 3,
   "id": "fb70a051",
   "metadata": {},
   "outputs": [
    {
     "name": "stdout",
     "output_type": "stream",
     "text": [
      "1\n",
      "2\n",
      "3\n",
      "4\n"
     ]
    }
   ],
   "source": [
    "myfunc2(1,2,3,4)"
   ]
  },
  {
   "cell_type": "code",
   "execution_count": 8,
   "id": "f87c917f",
   "metadata": {},
   "outputs": [],
   "source": [
    "def myfunc(**kwargs):  #return dictionary\n",
    "    print(kwargs)\n",
    "    if 'fruit' in kwargs:\n",
    "        print('my fruit of chice is {}'.format(kwargs['fruit']))\n",
    "    else:\n",
    "        print('i did not find any fruit here')\n",
    "            "
   ]
  },
  {
   "cell_type": "code",
   "execution_count": 9,
   "id": "ab813a5e",
   "metadata": {},
   "outputs": [
    {
     "name": "stdout",
     "output_type": "stream",
     "text": [
      "{'fruit': 'apple', 'vegitable': 'tomato'}\n",
      "my fruit of chice is apple\n"
     ]
    }
   ],
   "source": [
    "myfunc(fruit='apple',vegitable='tomato')"
   ]
  },
  {
   "cell_type": "code",
   "execution_count": 14,
   "id": "2d1c6436",
   "metadata": {},
   "outputs": [],
   "source": [
    "def myfunc(*args,**kwargs):\n",
    "    print(args)\n",
    "    print(kwargs)\n",
    "    print('i like {}   {}  {}'.format(args[1],kwargs['city'],kwargs['river']))\n",
    "    "
   ]
  },
  {
   "cell_type": "code",
   "execution_count": 15,
   "id": "4712ef39",
   "metadata": {},
   "outputs": [
    {
     "name": "stdout",
     "output_type": "stream",
     "text": [
      "('USA', 'UK', 'ITLY')\n",
      "{'city': 'london', 'river': 'themes'}\n",
      "i like UK   london  themes\n"
     ]
    }
   ],
   "source": [
    "myfunc('USA','UK','ITLY',city='london',river='themes')"
   ]
  },
  {
   "cell_type": "code",
   "execution_count": 16,
   "id": "76241925",
   "metadata": {},
   "outputs": [
    {
     "name": "stdout",
     "output_type": "stream",
     "text": [
      "🐈\n"
     ]
    }
   ],
   "source": [
    "print(\"\\N{cat}\")"
   ]
  },
  {
   "cell_type": "code",
   "execution_count": 18,
   "id": "53c6b059",
   "metadata": {},
   "outputs": [
    {
     "name": "stdout",
     "output_type": "stream",
     "text": [
      "🐕\n"
     ]
    }
   ],
   "source": [
    "print(\"\\N{dog}\")"
   ]
  },
  {
   "cell_type": "code",
   "execution_count": 19,
   "id": "16fe9dc0",
   "metadata": {},
   "outputs": [
    {
     "name": "stdout",
     "output_type": "stream",
     "text": [
      "🐅\n"
     ]
    }
   ],
   "source": [
    "print(\"\\N{tiger}\")"
   ]
  },
  {
   "cell_type": "code",
   "execution_count": 20,
   "id": "2f2407fa",
   "metadata": {},
   "outputs": [
    {
     "name": "stdout",
     "output_type": "stream",
     "text": [
      "🐎\n"
     ]
    }
   ],
   "source": [
    "print(\"\\N{horse}\")"
   ]
  },
  {
   "cell_type": "code",
   "execution_count": 21,
   "id": "29d8670d",
   "metadata": {},
   "outputs": [],
   "source": [
    "def lesser_of_evens(a,b):\n",
    "    if a%2 ==0 and b%2==0:\n",
    "        if a > b:\n",
    "            return b\n",
    "        else:\n",
    "            return a\n",
    "    else:\n",
    "        if a >b:\n",
    "            return a\n",
    "        else:\n",
    "            return b"
   ]
  },
  {
   "cell_type": "code",
   "execution_count": 22,
   "id": "c793d5cf",
   "metadata": {},
   "outputs": [
    {
     "data": {
      "text/plain": [
       "10"
      ]
     },
     "execution_count": 22,
     "metadata": {},
     "output_type": "execute_result"
    }
   ],
   "source": [
    "lesser_of_evens(10,20)"
   ]
  },
  {
   "cell_type": "code",
   "execution_count": 23,
   "id": "c4e83136",
   "metadata": {},
   "outputs": [
    {
     "data": {
      "text/plain": [
       "10"
      ]
     },
     "execution_count": 23,
     "metadata": {},
     "output_type": "execute_result"
    }
   ],
   "source": [
    "lesser_of_evens(5,10)"
   ]
  },
  {
   "cell_type": "code",
   "execution_count": 24,
   "id": "b3dbd12a",
   "metadata": {},
   "outputs": [],
   "source": [
    "def lesser_of_evens(a,b):\n",
    "    if a%2==0 and b%2==0:\n",
    "        return min(a,b)\n",
    "    else:\n",
    "        return max(a,b)"
   ]
  },
  {
   "cell_type": "code",
   "execution_count": 26,
   "id": "4b1aa4ca",
   "metadata": {},
   "outputs": [
    {
     "data": {
      "text/plain": [
       "20"
      ]
     },
     "execution_count": 26,
     "metadata": {},
     "output_type": "execute_result"
    }
   ],
   "source": [
    "lesser_of_evens(1,20)"
   ]
  },
  {
   "cell_type": "code",
   "execution_count": 31,
   "id": "5e450d6b",
   "metadata": {},
   "outputs": [],
   "source": [
    "def animal_crackers(text):\n",
    "    wordlist= text.lower().split()\n",
    "    \n",
    "    first=wordlist[0]\n",
    "    second=wordlist[1]\n",
    "    \n",
    "    return first[0]==second[0]"
   ]
  },
  {
   "cell_type": "code",
   "execution_count": 32,
   "id": "21c560c2",
   "metadata": {},
   "outputs": [
    {
     "data": {
      "text/plain": [
       "True"
      ]
     },
     "execution_count": 32,
     "metadata": {},
     "output_type": "execute_result"
    }
   ],
   "source": [
    "animal_crackers('dog donkey')"
   ]
  },
  {
   "cell_type": "code",
   "execution_count": 35,
   "id": "34751304",
   "metadata": {},
   "outputs": [
    {
     "data": {
      "text/plain": [
       "'dog donkey'"
      ]
     },
     "execution_count": 35,
     "metadata": {},
     "output_type": "execute_result"
    }
   ],
   "source": [
    "'dog donkey'.strip()"
   ]
  },
  {
   "cell_type": "code",
   "execution_count": 40,
   "id": "6075918f",
   "metadata": {},
   "outputs": [],
   "source": [
    "def animal_crackers(text):\n",
    "    wordlist=text.lower().split()\n",
    "    \n",
    "    return wordlist[0][0]==wordlist[1][0]"
   ]
  },
  {
   "cell_type": "code",
   "execution_count": 41,
   "id": "6821ff54",
   "metadata": {},
   "outputs": [
    {
     "data": {
      "text/plain": [
       "True"
      ]
     },
     "execution_count": 41,
     "metadata": {},
     "output_type": "execute_result"
    }
   ],
   "source": [
    "animal_crackers('hjk Hyu')"
   ]
  },
  {
   "cell_type": "code",
   "execution_count": 43,
   "id": "9ab728f6",
   "metadata": {},
   "outputs": [],
   "source": [
    "def makes_twenty(a,b):\n",
    "    if a+b==20 :\n",
    "        return True\n",
    "    elif a==20 or b==20:\n",
    "        return True\n",
    "    else:\n",
    "        return False"
   ]
  },
  {
   "cell_type": "code",
   "execution_count": 46,
   "id": "85ed930e",
   "metadata": {},
   "outputs": [
    {
     "data": {
      "text/plain": [
       "False"
      ]
     },
     "execution_count": 46,
     "metadata": {},
     "output_type": "execute_result"
    }
   ],
   "source": [
    "makes_twenty(80,10)"
   ]
  },
  {
   "cell_type": "code",
   "execution_count": 47,
   "id": "cf9e7e53",
   "metadata": {},
   "outputs": [],
   "source": [
    "def makes_twenty(a,b):\n",
    "    return (a+b)==20 or a==20 or b==20\n"
   ]
  },
  {
   "cell_type": "code",
   "execution_count": 48,
   "id": "7b3546d5",
   "metadata": {},
   "outputs": [
    {
     "data": {
      "text/plain": [
       "False"
      ]
     },
     "execution_count": 48,
     "metadata": {},
     "output_type": "execute_result"
    }
   ],
   "source": [
    "makes_twenty(25,10)"
   ]
  },
  {
   "cell_type": "code",
   "execution_count": null,
   "id": "24bbd166",
   "metadata": {},
   "outputs": [],
   "source": []
  },
  {
   "cell_type": "code",
   "execution_count": null,
   "id": "e8670d32",
   "metadata": {},
   "outputs": [],
   "source": []
  },
  {
   "cell_type": "code",
   "execution_count": null,
   "id": "7cd75440",
   "metadata": {},
   "outputs": [],
   "source": []
  },
  {
   "cell_type": "code",
   "execution_count": null,
   "id": "4a5d94e5",
   "metadata": {},
   "outputs": [],
   "source": []
  },
  {
   "cell_type": "code",
   "execution_count": null,
   "id": "368a24e5",
   "metadata": {},
   "outputs": [],
   "source": []
  },
  {
   "cell_type": "code",
   "execution_count": null,
   "id": "5b144fbb",
   "metadata": {},
   "outputs": [],
   "source": []
  },
  {
   "cell_type": "code",
   "execution_count": null,
   "id": "e9e17073",
   "metadata": {},
   "outputs": [],
   "source": []
  },
  {
   "cell_type": "code",
   "execution_count": null,
   "id": "0bdc88e5",
   "metadata": {},
   "outputs": [],
   "source": []
  },
  {
   "cell_type": "code",
   "execution_count": 21,
   "id": "7b170a9c",
   "metadata": {},
   "outputs": [
    {
     "data": {
      "text/plain": [
       "225.0"
      ]
     },
     "execution_count": 21,
     "metadata": {},
     "output_type": "execute_result"
    }
   ],
   "source": []
  },
  {
   "cell_type": "code",
   "execution_count": null,
   "id": "dafa7830",
   "metadata": {},
   "outputs": [],
   "source": []
  },
  {
   "cell_type": "code",
   "execution_count": null,
   "id": "9f873aa2",
   "metadata": {},
   "outputs": [],
   "source": []
  },
  {
   "cell_type": "code",
   "execution_count": null,
   "id": "f072a691",
   "metadata": {},
   "outputs": [],
   "source": []
  },
  {
   "cell_type": "code",
   "execution_count": null,
   "id": "2e900b30",
   "metadata": {},
   "outputs": [],
   "source": []
  }
 ],
 "metadata": {
  "kernelspec": {
   "display_name": "Python 3 (ipykernel)",
   "language": "python",
   "name": "python3"
  },
  "language_info": {
   "codemirror_mode": {
    "name": "ipython",
    "version": 3
   },
   "file_extension": ".py",
   "mimetype": "text/x-python",
   "name": "python",
   "nbconvert_exporter": "python",
   "pygments_lexer": "ipython3",
   "version": "3.9.12"
  }
 },
 "nbformat": 4,
 "nbformat_minor": 5
}
