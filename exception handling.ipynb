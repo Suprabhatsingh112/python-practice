{
 "cells": [
  {
   "cell_type": "code",
   "execution_count": 2,
   "id": "3ab0af22",
   "metadata": {},
   "outputs": [
    {
     "name": "stdout",
     "output_type": "stream",
     "text": [
      "i always run\n"
     ]
    }
   ],
   "source": [
    "try:\n",
    "    f = open('testfile','w')\n",
    "    f.write('write a test line')\n",
    "except:\n",
    "    print('all oher error')\n",
    "finally:\n",
    "    print('i always run')"
   ]
  },
  {
   "cell_type": "code",
   "execution_count": 8,
   "id": "c8a60898",
   "metadata": {},
   "outputs": [
    {
     "name": "stdout",
     "output_type": "stream",
     "text": [
      "you have  error not writable\n",
      "run with any error\n"
     ]
    }
   ],
   "source": [
    "try:\n",
    "    f = open('testfile','r')\n",
    "    f.write('write a test line')\n",
    "except TypeError:\n",
    "    print('there is type error')\n",
    "except Exception as err:\n",
    "    print('you have  error',str(err))\n",
    "#except:\n",
    "#    print('some error')\n",
    "finally:\n",
    "    print('run with any error')"
   ]
  },
  {
   "cell_type": "code",
   "execution_count": 2,
   "id": "89526d5f",
   "metadata": {},
   "outputs": [],
   "source": [
    "def ask_for_int():\n",
    "    while True:\n",
    "        try:\n",
    "            \n",
    "            result=int(input('please provide number'))\n",
    "        except Exception as err:\n",
    "            print('this is not number',str(err))\n",
    "            continue\n",
    "        else:\n",
    "            print('yes thank you')\n",
    "            break\n",
    "        finally:\n",
    "            print('end of try/ except/ finally ')\n",
    "    "
   ]
  },
  {
   "cell_type": "code",
   "execution_count": 3,
   "id": "c7f25b70",
   "metadata": {},
   "outputs": [
    {
     "name": "stdout",
     "output_type": "stream",
     "text": [
      "please provide numberii\n",
      "this is not number invalid literal for int() with base 10: 'ii'\n",
      "end of try/ except/ finally \n",
      "please provide number55\n",
      "yes thank you\n",
      "end of try/ except/ finally \n"
     ]
    }
   ],
   "source": [
    "ask_for_int()"
   ]
  },
  {
   "cell_type": "code",
   "execution_count": 5,
   "id": "98ef6d6c",
   "metadata": {},
   "outputs": [
    {
     "name": "stdout",
     "output_type": "stream",
     "text": [
      "please provide number\n"
     ]
    }
   ],
   "source": [
    "try:\n",
    "    for i in ['a','b','c']:\n",
    "        print(i**2)\n",
    "except TypeError:\n",
    "    print('please provide number')"
   ]
  },
  {
   "cell_type": "code",
   "execution_count": 6,
   "id": "33a3c081",
   "metadata": {},
   "outputs": [
    {
     "name": "stdout",
     "output_type": "stream",
     "text": [
      "please provide non zero number\n",
      "alldone\n"
     ]
    }
   ],
   "source": [
    "try:\n",
    "    x=5\n",
    "    y=0\n",
    "    z=(x/y)\n",
    "    print(z)\n",
    "except ZeroDivisionError:\n",
    "    print('please provide non zero number')\n",
    "finally:\n",
    "    print('alldone')"
   ]
  },
  {
   "cell_type": "code",
   "execution_count": 1,
   "id": "a4678da7",
   "metadata": {},
   "outputs": [],
   "source": [
    "def int_num():\n",
    "    while True:\n",
    "        try:\n",
    "            number=int(input('please provide number : '))\n",
    "            square=number**2\n",
    "           # print(number**2)\n",
    "        except Exception as err:\n",
    "            print(str(err))\n",
    "            print('please try again')\n",
    "            continue\n",
    "        else:\n",
    "            print('thank you, your square is {}'.format(square))\n",
    "            break"
   ]
  },
  {
   "cell_type": "code",
   "execution_count": 2,
   "id": "8e950f1f",
   "metadata": {},
   "outputs": [
    {
     "name": "stdout",
     "output_type": "stream",
     "text": [
      "please provide number : dd\n",
      "invalid literal for int() with base 10: 'dd'\n",
      "please try again\n",
      "please provide number : kl\n",
      "invalid literal for int() with base 10: 'kl'\n",
      "please try again\n",
      "please provide number : 44\n",
      "thank you, your square is 1936\n"
     ]
    }
   ],
   "source": [
    "int_num()"
   ]
  },
  {
   "cell_type": "code",
   "execution_count": null,
   "id": "892367c1",
   "metadata": {},
   "outputs": [],
   "source": []
  },
  {
   "cell_type": "code",
   "execution_count": null,
   "id": "6a228073",
   "metadata": {},
   "outputs": [],
   "source": []
  },
  {
   "cell_type": "code",
   "execution_count": null,
   "id": "a2d2524b",
   "metadata": {},
   "outputs": [],
   "source": []
  }
 ],
 "metadata": {
  "kernelspec": {
   "display_name": "Python 3 (ipykernel)",
   "language": "python",
   "name": "python3"
  },
  "language_info": {
   "codemirror_mode": {
    "name": "ipython",
    "version": 3
   },
   "file_extension": ".py",
   "mimetype": "text/x-python",
   "name": "python",
   "nbconvert_exporter": "python",
   "pygments_lexer": "ipython3",
   "version": "3.9.12"
  }
 },
 "nbformat": 4,
 "nbformat_minor": 5
}
