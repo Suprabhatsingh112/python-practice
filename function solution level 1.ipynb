{
 "cells": [
  {
   "cell_type": "code",
   "execution_count": 4,
   "id": "a70a55d0",
   "metadata": {},
   "outputs": [],
   "source": [
    "def old_macdonald(name):\n",
    "    first_letter = name[0]\n",
    "    inbetween = name[1:3]\n",
    "    fourth_letter = name[3]\n",
    "    rest = name[4:]\n",
    "    return first_letter.upper() + inbetween + fourth_letter.upper() + rest"
   ]
  },
  {
   "cell_type": "code",
   "execution_count": 5,
   "id": "daffc9dd",
   "metadata": {},
   "outputs": [
    {
     "data": {
      "text/plain": [
       "'WodLdldl'"
      ]
     },
     "execution_count": 5,
     "metadata": {},
     "output_type": "execute_result"
    }
   ],
   "source": [
    "old_macdonald('wodldldl')"
   ]
  },
  {
   "cell_type": "code",
   "execution_count": 6,
   "id": "4eefaad7",
   "metadata": {},
   "outputs": [],
   "source": [
    "def master_yoda(text):\n",
    "    word_list = text.split()\n",
    "    reverse_word_list=word_list[::-1]\n",
    "    return ' '.join(reverse_word_list)\n",
    "    "
   ]
  },
  {
   "cell_type": "code",
   "execution_count": 7,
   "id": "7e39b326",
   "metadata": {},
   "outputs": [
    {
     "data": {
      "text/plain": [
       "'asd heloo hi'"
      ]
     },
     "execution_count": 7,
     "metadata": {},
     "output_type": "execute_result"
    }
   ],
   "source": [
    "master_yoda('hi heloo asd')"
   ]
  },
  {
   "cell_type": "code",
   "execution_count": 8,
   "id": "07d4dc8b",
   "metadata": {},
   "outputs": [],
   "source": [
    "def almost_there(n):\n",
    "    return (abs(100-n) <= 10) or (abs(200-n) <= 10)\n",
    "    "
   ]
  },
  {
   "cell_type": "code",
   "execution_count": 11,
   "id": "1a721fe6",
   "metadata": {},
   "outputs": [
    {
     "data": {
      "text/plain": [
       "True"
      ]
     },
     "execution_count": 11,
     "metadata": {},
     "output_type": "execute_result"
    }
   ],
   "source": [
    "almost_there(190)"
   ]
  },
  {
   "cell_type": "code",
   "execution_count": 5,
   "id": "1af1f151",
   "metadata": {},
   "outputs": [],
   "source": [
    "def has_33(nums):\n",
    "    \n",
    "    for i in range(0,len(nums)-1):\n",
    "        if nums[i] == 3 and nums[i+1] == 3:\n",
    "            return True\n",
    "        \n",
    "    return False\n",
    "    \n",
    "    "
   ]
  },
  {
   "cell_type": "code",
   "execution_count": 6,
   "id": "a44a377a",
   "metadata": {},
   "outputs": [
    {
     "data": {
      "text/plain": [
       "True"
      ]
     },
     "execution_count": 6,
     "metadata": {},
     "output_type": "execute_result"
    }
   ],
   "source": [
    "has_33([1,2,3,3,4])"
   ]
  },
  {
   "cell_type": "code",
   "execution_count": 11,
   "id": "765b5edd",
   "metadata": {},
   "outputs": [],
   "source": [
    "def has_33(nums):\n",
    "    \n",
    "    for i in range (0,len(nums)-1):\n",
    "        if nums[i:i+2] == [3,3]:\n",
    "            return True\n",
    "        \n",
    "    return False    \n",
    "        "
   ]
  },
  {
   "cell_type": "code",
   "execution_count": 12,
   "id": "caf60783",
   "metadata": {},
   "outputs": [
    {
     "data": {
      "text/plain": [
       "True"
      ]
     },
     "execution_count": 12,
     "metadata": {},
     "output_type": "execute_result"
    }
   ],
   "source": [
    "has_33([2,3,3])"
   ]
  },
  {
   "cell_type": "code",
   "execution_count": 13,
   "id": "e1ec0b62",
   "metadata": {},
   "outputs": [],
   "source": [
    "def paper_doll(text):\n",
    "    result=''\n",
    "    for char in text:\n",
    "        result += char*3\n",
    "    return result    \n",
    "        "
   ]
  },
  {
   "cell_type": "code",
   "execution_count": 14,
   "id": "3855a6e2",
   "metadata": {},
   "outputs": [
    {
     "data": {
      "text/plain": [
       "'hhheeellllllooo'"
      ]
     },
     "execution_count": 14,
     "metadata": {},
     "output_type": "execute_result"
    }
   ],
   "source": [
    "paper_doll('hello')"
   ]
  },
  {
   "cell_type": "code",
   "execution_count": 20,
   "id": "8fdc7b33",
   "metadata": {},
   "outputs": [],
   "source": [
    "def blackjack(a,b,c):\n",
    "    if sum([a,b,c]) <= 21:\n",
    "        return sum([a,b,c])\n",
    "    elif 11 in [a,b,c] and sum([a,b,c]) <= 31:\n",
    "        return sum([a,b,c]) - 10\n",
    "    else:\n",
    "        return 'bust'\n",
    "    "
   ]
  },
  {
   "cell_type": "code",
   "execution_count": 21,
   "id": "20d92d07",
   "metadata": {},
   "outputs": [
    {
     "data": {
      "text/plain": [
       "'bust'"
      ]
     },
     "execution_count": 21,
     "metadata": {},
     "output_type": "execute_result"
    }
   ],
   "source": [
    "blackjack(8,8,8)"
   ]
  },
  {
   "cell_type": "code",
   "execution_count": null,
   "id": "5c2faa02",
   "metadata": {},
   "outputs": [],
   "source": [
    "def  summer_69(arr):\n",
    "    \n",
    "    total = 0\n",
    "    add = True\n",
    "    \n",
    "    for num in arr:\n",
    "        while add:\n",
    "            if num != 6:\n",
    "                total = total + num\n",
    "                break\n",
    "                \n",
    "            else:\n",
    "                add = False\n",
    "        while not add:\n",
    "            if num != 9:\n",
    "                break\n",
    "            else:\n",
    "                add = True\n",
    "                break\n",
    "    return toatl            \n",
    "    "
   ]
  },
  {
   "cell_type": "code",
   "execution_count": 22,
   "id": "165f8806",
   "metadata": {},
   "outputs": [],
   "source": [
    "def spy_game(nums):\n",
    "    \n",
    "    code = [0,0,7,'x']\n",
    "    for num in nums:\n",
    "        if num == code[0]:\n",
    "            code.pop(0)\n",
    "            \n",
    "    return len(code) == 1        "
   ]
  },
  {
   "cell_type": "code",
   "execution_count": 24,
   "id": "6b2e3f25",
   "metadata": {},
   "outputs": [
    {
     "data": {
      "text/plain": [
       "False"
      ]
     },
     "execution_count": 24,
     "metadata": {},
     "output_type": "execute_result"
    }
   ],
   "source": [
    "spy_game([1,2,0,7])"
   ]
  },
  {
   "cell_type": "code",
   "execution_count": 27,
   "id": "673b8ebd",
   "metadata": {},
   "outputs": [],
   "source": [
    "def james_bond(list1):\n",
    "    \n",
    "    jamesbond = [0,0,7,'1']\n",
    "    \n",
    "    for num in list1:\n",
    "        if num == jamesbond[0]:\n",
    "            jamesbond.pop(0)\n",
    "    return len(jamesbond) == 1        "
   ]
  },
  {
   "cell_type": "code",
   "execution_count": 28,
   "id": "d3848e0f",
   "metadata": {},
   "outputs": [
    {
     "data": {
      "text/plain": [
       "True"
      ]
     },
     "execution_count": 28,
     "metadata": {},
     "output_type": "execute_result"
    }
   ],
   "source": [
    "james_bond([1,2,0,0,7,2])"
   ]
  },
  {
   "cell_type": "code",
   "execution_count": 29,
   "id": "aedad041",
   "metadata": {},
   "outputs": [],
   "source": [
    "def count_primes(num):\n",
    "    \n",
    "    if num < 2:\n",
    "        return 0\n",
    "    primes = [2]\n",
    "    \n",
    "    x = 3\n",
    "    \n",
    "    while x <= num:\n",
    "        \n",
    "        for y in range(3,x,2):\n",
    "            if x%y == 0:\n",
    "                x=x+2\n",
    "                break\n",
    "        else:\n",
    "            primes.append(x)\n",
    "            x=x+2\n",
    "    print(primes)\n",
    "    return len(primes)\n"
   ]
  },
  {
   "cell_type": "code",
   "execution_count": 30,
   "id": "b344764b",
   "metadata": {},
   "outputs": [
    {
     "name": "stdout",
     "output_type": "stream",
     "text": [
      "[2, 3, 5, 7, 11, 13]\n"
     ]
    },
    {
     "data": {
      "text/plain": [
       "6"
      ]
     },
     "execution_count": 30,
     "metadata": {},
     "output_type": "execute_result"
    }
   ],
   "source": [
    "count_primes(14)"
   ]
  },
  {
   "cell_type": "code",
   "execution_count": null,
   "id": "7e68b735",
   "metadata": {},
   "outputs": [],
   "source": []
  },
  {
   "cell_type": "code",
   "execution_count": null,
   "id": "3eeb42a6",
   "metadata": {},
   "outputs": [],
   "source": []
  },
  {
   "cell_type": "code",
   "execution_count": null,
   "id": "47189edc",
   "metadata": {},
   "outputs": [],
   "source": []
  },
  {
   "cell_type": "code",
   "execution_count": null,
   "id": "22e01b34",
   "metadata": {},
   "outputs": [],
   "source": []
  },
  {
   "cell_type": "code",
   "execution_count": null,
   "id": "d1f4a67b",
   "metadata": {},
   "outputs": [],
   "source": []
  },
  {
   "cell_type": "code",
   "execution_count": null,
   "id": "09942049",
   "metadata": {},
   "outputs": [],
   "source": []
  },
  {
   "cell_type": "code",
   "execution_count": null,
   "id": "688741b0",
   "metadata": {},
   "outputs": [],
   "source": []
  },
  {
   "cell_type": "code",
   "execution_count": null,
   "id": "f33cd4bb",
   "metadata": {},
   "outputs": [],
   "source": []
  },
  {
   "cell_type": "code",
   "execution_count": null,
   "id": "6ed31cad",
   "metadata": {},
   "outputs": [],
   "source": []
  },
  {
   "cell_type": "code",
   "execution_count": null,
   "id": "89c57465",
   "metadata": {},
   "outputs": [],
   "source": []
  },
  {
   "cell_type": "code",
   "execution_count": null,
   "id": "5c102d36",
   "metadata": {},
   "outputs": [],
   "source": []
  },
  {
   "cell_type": "code",
   "execution_count": null,
   "id": "acddfb86",
   "metadata": {},
   "outputs": [],
   "source": []
  },
  {
   "cell_type": "code",
   "execution_count": null,
   "id": "dd883c0b",
   "metadata": {},
   "outputs": [],
   "source": []
  },
  {
   "cell_type": "code",
   "execution_count": null,
   "id": "06f8fd29",
   "metadata": {},
   "outputs": [],
   "source": []
  }
 ],
 "metadata": {
  "kernelspec": {
   "display_name": "Python 3 (ipykernel)",
   "language": "python",
   "name": "python3"
  },
  "language_info": {
   "codemirror_mode": {
    "name": "ipython",
    "version": 3
   },
   "file_extension": ".py",
   "mimetype": "text/x-python",
   "name": "python",
   "nbconvert_exporter": "python",
   "pygments_lexer": "ipython3",
   "version": "3.9.12"
  }
 },
 "nbformat": 4,
 "nbformat_minor": 5
}
