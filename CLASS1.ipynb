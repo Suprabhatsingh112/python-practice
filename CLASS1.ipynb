{
 "cells": [
  {
   "cell_type": "code",
   "execution_count": 24,
   "id": "54cafac1",
   "metadata": {},
   "outputs": [],
   "source": [
    "class CountFromBy:\n",
    "    \n",
    "    def __init__(self,v: int=0, i: int=1) -> None:\n",
    "        self.val = v\n",
    "        self.incr = i\n",
    "        \n",
    "    def increase(self)-> None:\n",
    "        self.val += self.incr\n",
    "        \n",
    "    def __repr__(self) -> str:\n",
    "        return str(self.val)"
   ]
  },
  {
   "cell_type": "code",
   "execution_count": 25,
   "id": "de83d273",
   "metadata": {},
   "outputs": [],
   "source": [
    "g = CountFromBy(5,2)"
   ]
  },
  {
   "cell_type": "code",
   "execution_count": 26,
   "id": "a0e59c1c",
   "metadata": {},
   "outputs": [
    {
     "data": {
      "text/plain": [
       "5"
      ]
     },
     "execution_count": 26,
     "metadata": {},
     "output_type": "execute_result"
    }
   ],
   "source": [
    "g"
   ]
  },
  {
   "cell_type": "code",
   "execution_count": 27,
   "id": "7377ad36",
   "metadata": {},
   "outputs": [],
   "source": [
    "g.increase()"
   ]
  },
  {
   "cell_type": "code",
   "execution_count": 20,
   "id": "bec9880d",
   "metadata": {},
   "outputs": [],
   "source": [
    "g.increase()"
   ]
  },
  {
   "cell_type": "code",
   "execution_count": null,
   "id": "0dbad938",
   "metadata": {},
   "outputs": [],
   "source": []
  },
  {
   "cell_type": "code",
   "execution_count": null,
   "id": "d32e2e6a",
   "metadata": {},
   "outputs": [],
   "source": []
  },
  {
   "cell_type": "code",
   "execution_count": null,
   "id": "25cbae74",
   "metadata": {},
   "outputs": [],
   "source": []
  },
  {
   "cell_type": "code",
   "execution_count": null,
   "id": "05d61fe8",
   "metadata": {},
   "outputs": [],
   "source": []
  }
 ],
 "metadata": {
  "kernelspec": {
   "display_name": "Python 3 (ipykernel)",
   "language": "python",
   "name": "python3"
  },
  "language_info": {
   "codemirror_mode": {
    "name": "ipython",
    "version": 3
   },
   "file_extension": ".py",
   "mimetype": "text/x-python",
   "name": "python",
   "nbconvert_exporter": "python",
   "pygments_lexer": "ipython3",
   "version": "3.9.12"
  }
 },
 "nbformat": 4,
 "nbformat_minor": 5
}
