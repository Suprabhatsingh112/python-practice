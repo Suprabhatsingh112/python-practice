{
 "cells": [
  {
   "cell_type": "code",
   "execution_count": 1,
   "id": "2eac102e",
   "metadata": {},
   "outputs": [],
   "source": [
    "def func():\n",
    "    return 1"
   ]
  },
  {
   "cell_type": "code",
   "execution_count": 2,
   "id": "260798da",
   "metadata": {},
   "outputs": [
    {
     "data": {
      "text/plain": [
       "1"
      ]
     },
     "execution_count": 2,
     "metadata": {},
     "output_type": "execute_result"
    }
   ],
   "source": [
    "func()"
   ]
  },
  {
   "cell_type": "code",
   "execution_count": 4,
   "id": "4a9666b8",
   "metadata": {},
   "outputs": [],
   "source": [
    "def hello():\n",
    "    return 'hello'"
   ]
  },
  {
   "cell_type": "code",
   "execution_count": 5,
   "id": "8e885947",
   "metadata": {},
   "outputs": [
    {
     "data": {
      "text/plain": [
       "'hello'"
      ]
     },
     "execution_count": 5,
     "metadata": {},
     "output_type": "execute_result"
    }
   ],
   "source": [
    "hello()"
   ]
  },
  {
   "cell_type": "code",
   "execution_count": 7,
   "id": "ab297109",
   "metadata": {},
   "outputs": [
    {
     "data": {
      "text/plain": [
       "<function __main__.hello()>"
      ]
     },
     "execution_count": 7,
     "metadata": {},
     "output_type": "execute_result"
    }
   ],
   "source": [
    "hello"
   ]
  },
  {
   "cell_type": "code",
   "execution_count": 8,
   "id": "eb4c2dde",
   "metadata": {},
   "outputs": [],
   "source": [
    "greet = hello"
   ]
  },
  {
   "cell_type": "code",
   "execution_count": 9,
   "id": "16a09869",
   "metadata": {},
   "outputs": [
    {
     "data": {
      "text/plain": [
       "'hello'"
      ]
     },
     "execution_count": 9,
     "metadata": {},
     "output_type": "execute_result"
    }
   ],
   "source": [
    "greet()"
   ]
  },
  {
   "cell_type": "code",
   "execution_count": 10,
   "id": "0fad5006",
   "metadata": {},
   "outputs": [
    {
     "data": {
      "text/plain": [
       "<function __main__.hello()>"
      ]
     },
     "execution_count": 10,
     "metadata": {},
     "output_type": "execute_result"
    }
   ],
   "source": [
    "greet"
   ]
  },
  {
   "cell_type": "code",
   "execution_count": 19,
   "id": "788e4718",
   "metadata": {},
   "outputs": [],
   "source": [
    "def hello(name='jose'):\n",
    "    print('the hello() function has been executed!')\n",
    "    \n",
    "    def greet():\n",
    "        return '\\t this is gret() function inside hello() '\n",
    "    \n",
    "    def welcome():\n",
    "        return '\\t this is welcome() inside hello()'\n",
    "    \n",
    "    print(greet())\n",
    "    print(welcome())\n",
    "    print('this is the end of hello')"
   ]
  },
  {
   "cell_type": "code",
   "execution_count": 20,
   "id": "0c63c90c",
   "metadata": {},
   "outputs": [
    {
     "name": "stdout",
     "output_type": "stream",
     "text": [
      "the hello() function has been executed!\n",
      "\t this is gret() function inside hello() \n",
      "\t this is welcome() inside hello()\n",
      "this is the end of hello\n"
     ]
    }
   ],
   "source": [
    "hello()"
   ]
  },
  {
   "cell_type": "code",
   "execution_count": 21,
   "id": "cfa7aeb1",
   "metadata": {},
   "outputs": [
    {
     "ename": "NameError",
     "evalue": "name 'welcome' is not defined",
     "output_type": "error",
     "traceback": [
      "\u001b[1;31m---------------------------------------------------------------------------\u001b[0m",
      "\u001b[1;31mNameError\u001b[0m                                 Traceback (most recent call last)",
      "Input \u001b[1;32mIn [21]\u001b[0m, in \u001b[0;36m<cell line: 1>\u001b[1;34m()\u001b[0m\n\u001b[1;32m----> 1\u001b[0m \u001b[43mwelcome\u001b[49m()\n",
      "\u001b[1;31mNameError\u001b[0m: name 'welcome' is not defined"
     ]
    }
   ],
   "source": [
    "welcome()"
   ]
  },
  {
   "cell_type": "code",
   "execution_count": 30,
   "id": "93c2f9ed",
   "metadata": {},
   "outputs": [],
   "source": [
    "def hello(name='jose'):\n",
    "    print('the hello() function has been executed!')\n",
    "    \n",
    "    def greet():\n",
    "        return '\\t this is gret() function inside hello() '\n",
    "    \n",
    "    def welcome():\n",
    "        return '\\t this is welcome() inside hello()'\n",
    "    \n",
    "    if name == 'jose':\n",
    "        return greet\n",
    "    else:\n",
    "        return welcome"
   ]
  },
  {
   "cell_type": "code",
   "execution_count": 31,
   "id": "66001446",
   "metadata": {},
   "outputs": [
    {
     "name": "stdout",
     "output_type": "stream",
     "text": [
      "the hello() function has been executed!\n"
     ]
    }
   ],
   "source": [
    "mynewfunc = hello('jose')"
   ]
  },
  {
   "cell_type": "code",
   "execution_count": 32,
   "id": "3e6b7a70",
   "metadata": {},
   "outputs": [
    {
     "data": {
      "text/plain": [
       "<function __main__.hello.<locals>.greet()>"
      ]
     },
     "execution_count": 32,
     "metadata": {},
     "output_type": "execute_result"
    }
   ],
   "source": [
    "mynewfunc"
   ]
  },
  {
   "cell_type": "code",
   "execution_count": 33,
   "id": "e6c29de1",
   "metadata": {},
   "outputs": [
    {
     "data": {
      "text/plain": [
       "'\\t this is gret() function inside hello() '"
      ]
     },
     "execution_count": 33,
     "metadata": {},
     "output_type": "execute_result"
    }
   ],
   "source": [
    "mynewfunc()"
   ]
  },
  {
   "cell_type": "code",
   "execution_count": 34,
   "id": "d5f92b04",
   "metadata": {},
   "outputs": [
    {
     "name": "stdout",
     "output_type": "stream",
     "text": [
      "\t this is gret() function inside hello() \n"
     ]
    }
   ],
   "source": [
    "print(mynewfunc())"
   ]
  },
  {
   "cell_type": "code",
   "execution_count": 38,
   "id": "c1fddd75",
   "metadata": {},
   "outputs": [],
   "source": [
    "def cool():\n",
    "    \n",
    "    print('this is cool function')\n",
    "    \n",
    "    def super_cool():\n",
    "        return 'i am very cool'\n",
    "    \n",
    "    return super_cool"
   ]
  },
  {
   "cell_type": "code",
   "execution_count": 39,
   "id": "93a363cd",
   "metadata": {},
   "outputs": [
    {
     "name": "stdout",
     "output_type": "stream",
     "text": [
      "this is cool function\n"
     ]
    }
   ],
   "source": [
    "some_func=cool()"
   ]
  },
  {
   "cell_type": "code",
   "execution_count": 40,
   "id": "4394b076",
   "metadata": {},
   "outputs": [
    {
     "data": {
      "text/plain": [
       "'i am very cool'"
      ]
     },
     "execution_count": 40,
     "metadata": {},
     "output_type": "execute_result"
    }
   ],
   "source": [
    "some_func()"
   ]
  },
  {
   "cell_type": "code",
   "execution_count": null,
   "id": "5a8f2ede",
   "metadata": {},
   "outputs": [],
   "source": []
  },
  {
   "cell_type": "code",
   "execution_count": null,
   "id": "b5a3132e",
   "metadata": {},
   "outputs": [],
   "source": []
  },
  {
   "cell_type": "code",
   "execution_count": 41,
   "id": "94c74c80",
   "metadata": {},
   "outputs": [],
   "source": [
    "def hello():\n",
    "    return 'hi jose'"
   ]
  },
  {
   "cell_type": "code",
   "execution_count": 42,
   "id": "5cff4fc0",
   "metadata": {},
   "outputs": [],
   "source": [
    "def other(func):\n",
    "    print('other code run here')\n",
    "    print(func())"
   ]
  },
  {
   "cell_type": "code",
   "execution_count": 43,
   "id": "62c05a5c",
   "metadata": {},
   "outputs": [
    {
     "name": "stdout",
     "output_type": "stream",
     "text": [
      "other code run here\n",
      "hi jose\n"
     ]
    }
   ],
   "source": [
    "other(hello)"
   ]
  },
  {
   "cell_type": "code",
   "execution_count": null,
   "id": "ecd8f9c2",
   "metadata": {},
   "outputs": [],
   "source": []
  },
  {
   "cell_type": "code",
   "execution_count": null,
   "id": "f6d3fef8",
   "metadata": {},
   "outputs": [],
   "source": []
  },
  {
   "cell_type": "code",
   "execution_count": null,
   "id": "c71a2f56",
   "metadata": {},
   "outputs": [],
   "source": []
  },
  {
   "cell_type": "code",
   "execution_count": 54,
   "id": "ddb358f8",
   "metadata": {},
   "outputs": [],
   "source": [
    "def new_decorator(original_func):\n",
    "    \n",
    "    def wrap_func():\n",
    "        \n",
    "        print('some extra code, before the original function')\n",
    "        \n",
    "        original_func()\n",
    "        \n",
    "        print('some extra code after function')\n",
    "        \n",
    "    return wrap_func    "
   ]
  },
  {
   "cell_type": "code",
   "execution_count": 55,
   "id": "e3dc3c96",
   "metadata": {},
   "outputs": [],
   "source": [
    "def func_needs_decorator():\n",
    "    print(' i want to be decorated !!')"
   ]
  },
  {
   "cell_type": "code",
   "execution_count": 56,
   "id": "511b199e",
   "metadata": {},
   "outputs": [],
   "source": [
    "decorated_func = new_decorator(func_needs_decorator)"
   ]
  },
  {
   "cell_type": "code",
   "execution_count": 57,
   "id": "e5f7a8a1",
   "metadata": {},
   "outputs": [
    {
     "name": "stdout",
     "output_type": "stream",
     "text": [
      "some extra code, before the original function\n",
      " i want to be decorated !!\n",
      "some extra code after function\n"
     ]
    }
   ],
   "source": [
    "decorated_func()"
   ]
  },
  {
   "cell_type": "raw",
   "id": "9a61a3dd",
   "metadata": {},
   "source": []
  },
  {
   "cell_type": "code",
   "execution_count": 58,
   "id": "1382d5c1",
   "metadata": {},
   "outputs": [],
   "source": [
    "@new_decorator\n",
    "def func_needs_decorator():\n",
    "    print(' i want to be decorated !!')\n"
   ]
  },
  {
   "cell_type": "code",
   "execution_count": 59,
   "id": "ef03ae08",
   "metadata": {},
   "outputs": [
    {
     "name": "stdout",
     "output_type": "stream",
     "text": [
      "some extra code, before the original function\n",
      " i want to be decorated !!\n",
      "some extra code after function\n"
     ]
    }
   ],
   "source": [
    "func_needs_decorator()"
   ]
  },
  {
   "cell_type": "code",
   "execution_count": null,
   "id": "4e8a7803",
   "metadata": {},
   "outputs": [],
   "source": []
  },
  {
   "cell_type": "code",
   "execution_count": null,
   "id": "4894f22a",
   "metadata": {},
   "outputs": [],
   "source": []
  },
  {
   "cell_type": "code",
   "execution_count": null,
   "id": "f18c8b3e",
   "metadata": {},
   "outputs": [],
   "source": []
  }
 ],
 "metadata": {
  "kernelspec": {
   "display_name": "Python 3 (ipykernel)",
   "language": "python",
   "name": "python3"
  },
  "language_info": {
   "codemirror_mode": {
    "name": "ipython",
    "version": 3
   },
   "file_extension": ".py",
   "mimetype": "text/x-python",
   "name": "python",
   "nbconvert_exporter": "python",
   "pygments_lexer": "ipython3",
   "version": "3.9.12"
  }
 },
 "nbformat": 4,
 "nbformat_minor": 5
}
