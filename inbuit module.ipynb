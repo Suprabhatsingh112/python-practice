{
 "cells": [
  {
   "cell_type": "code",
   "execution_count": 3,
   "id": "b10ecc01",
   "metadata": {},
   "outputs": [],
   "source": [
    "from collections import Counter "
   ]
  },
  {
   "cell_type": "code",
   "execution_count": 4,
   "id": "0e8f26cf",
   "metadata": {},
   "outputs": [],
   "source": [
    "mylist = [1,1,1,5,8,5,8,5,8]"
   ]
  },
  {
   "cell_type": "code",
   "execution_count": 5,
   "id": "e3e0bd64",
   "metadata": {},
   "outputs": [
    {
     "data": {
      "text/plain": [
       "Counter({1: 3, 5: 3, 8: 3})"
      ]
     },
     "execution_count": 5,
     "metadata": {},
     "output_type": "execute_result"
    }
   ],
   "source": [
    "Counter(mylist)"
   ]
  },
  {
   "cell_type": "code",
   "execution_count": 6,
   "id": "fb71d45b",
   "metadata": {},
   "outputs": [],
   "source": [
    "string = 'ia sld sld oa dki ia ia kd dkd dkd '"
   ]
  },
  {
   "cell_type": "code",
   "execution_count": 7,
   "id": "44b374f9",
   "metadata": {},
   "outputs": [
    {
     "data": {
      "text/plain": [
       "Counter({'ia': 3, 'sld': 2, 'oa': 1, 'dki': 1, 'kd': 1, 'dkd': 2})"
      ]
     },
     "execution_count": 7,
     "metadata": {},
     "output_type": "execute_result"
    }
   ],
   "source": [
    "Counter(string.lower().split())"
   ]
  },
  {
   "cell_type": "code",
   "execution_count": 8,
   "id": "4a31170b",
   "metadata": {},
   "outputs": [],
   "source": [
    "letters = 'aaaaaaabbbbbbbcccccc'"
   ]
  },
  {
   "cell_type": "code",
   "execution_count": 9,
   "id": "45aaf5b8",
   "metadata": {},
   "outputs": [],
   "source": [
    "a = Counter(letters)"
   ]
  },
  {
   "cell_type": "code",
   "execution_count": 10,
   "id": "dc9a5aaf",
   "metadata": {},
   "outputs": [
    {
     "data": {
      "text/plain": [
       "Counter({'a': 7, 'b': 7, 'c': 6})"
      ]
     },
     "execution_count": 10,
     "metadata": {},
     "output_type": "execute_result"
    }
   ],
   "source": [
    "a"
   ]
  },
  {
   "cell_type": "code",
   "execution_count": 11,
   "id": "70dab5d5",
   "metadata": {},
   "outputs": [
    {
     "data": {
      "text/plain": [
       "[('a', 7), ('b', 7), ('c', 6)]"
      ]
     },
     "execution_count": 11,
     "metadata": {},
     "output_type": "execute_result"
    }
   ],
   "source": [
    "a.most_common()"
   ]
  },
  {
   "cell_type": "code",
   "execution_count": 12,
   "id": "d55da546",
   "metadata": {},
   "outputs": [
    {
     "data": {
      "text/plain": [
       "[('a', 7), ('b', 7)]"
      ]
     },
     "execution_count": 12,
     "metadata": {},
     "output_type": "execute_result"
    }
   ],
   "source": [
    "a.most_common(2)"
   ]
  },
  {
   "cell_type": "code",
   "execution_count": 17,
   "id": "9381afa8",
   "metadata": {},
   "outputs": [],
   "source": [
    "from collections import defaultdict"
   ]
  },
  {
   "cell_type": "code",
   "execution_count": 18,
   "id": "c4048a4c",
   "metadata": {},
   "outputs": [],
   "source": [
    "d ={'a':10}"
   ]
  },
  {
   "cell_type": "code",
   "execution_count": 19,
   "id": "84a578ac",
   "metadata": {},
   "outputs": [
    {
     "data": {
      "text/plain": [
       "{'a': 10}"
      ]
     },
     "execution_count": 19,
     "metadata": {},
     "output_type": "execute_result"
    }
   ],
   "source": [
    "d"
   ]
  },
  {
   "cell_type": "code",
   "execution_count": 20,
   "id": "6a71044f",
   "metadata": {},
   "outputs": [
    {
     "data": {
      "text/plain": [
       "10"
      ]
     },
     "execution_count": 20,
     "metadata": {},
     "output_type": "execute_result"
    }
   ],
   "source": [
    "d['a']"
   ]
  },
  {
   "cell_type": "code",
   "execution_count": 22,
   "id": "de091fb6",
   "metadata": {},
   "outputs": [],
   "source": [
    "d = defaultdict(lambda:0)"
   ]
  },
  {
   "cell_type": "code",
   "execution_count": 23,
   "id": "074a82ad",
   "metadata": {},
   "outputs": [],
   "source": [
    "d['correct']=100"
   ]
  },
  {
   "cell_type": "code",
   "execution_count": 24,
   "id": "b9541915",
   "metadata": {},
   "outputs": [
    {
     "data": {
      "text/plain": [
       "defaultdict(<function __main__.<lambda>()>, {'correct': 100})"
      ]
     },
     "execution_count": 24,
     "metadata": {},
     "output_type": "execute_result"
    }
   ],
   "source": [
    "d"
   ]
  },
  {
   "cell_type": "code",
   "execution_count": 26,
   "id": "dbad3067",
   "metadata": {},
   "outputs": [
    {
     "data": {
      "text/plain": [
       "100"
      ]
     },
     "execution_count": 26,
     "metadata": {},
     "output_type": "execute_result"
    }
   ],
   "source": [
    "d['correct']"
   ]
  },
  {
   "cell_type": "code",
   "execution_count": 28,
   "id": "4e708948",
   "metadata": {},
   "outputs": [
    {
     "data": {
      "text/plain": [
       "0"
      ]
     },
     "execution_count": 28,
     "metadata": {},
     "output_type": "execute_result"
    }
   ],
   "source": [
    "d['wrong']"
   ]
  },
  {
   "cell_type": "code",
   "execution_count": 29,
   "id": "9a469fe2",
   "metadata": {},
   "outputs": [
    {
     "data": {
      "text/plain": [
       "defaultdict(<function __main__.<lambda>()>,\n",
       "            {'correct': 100, 'corrct': 0, 'wrong': 0})"
      ]
     },
     "execution_count": 29,
     "metadata": {},
     "output_type": "execute_result"
    }
   ],
   "source": [
    "d"
   ]
  },
  {
   "cell_type": "code",
   "execution_count": 30,
   "id": "7fe80c89",
   "metadata": {},
   "outputs": [],
   "source": [
    "mytuple=(10,20,30)"
   ]
  },
  {
   "cell_type": "code",
   "execution_count": 31,
   "id": "695cf7e2",
   "metadata": {},
   "outputs": [
    {
     "data": {
      "text/plain": [
       "10"
      ]
     },
     "execution_count": 31,
     "metadata": {},
     "output_type": "execute_result"
    }
   ],
   "source": [
    "mytuple[0]"
   ]
  },
  {
   "cell_type": "code",
   "execution_count": 32,
   "id": "90c448c8",
   "metadata": {},
   "outputs": [],
   "source": [
    "from collections import namedtuple"
   ]
  },
  {
   "cell_type": "code",
   "execution_count": 34,
   "id": "4a6dd858",
   "metadata": {},
   "outputs": [],
   "source": [
    "dog = namedtuple('dog',['age','breed','name'])\n"
   ]
  },
  {
   "cell_type": "code",
   "execution_count": 35,
   "id": "66d1c823",
   "metadata": {},
   "outputs": [
    {
     "data": {
      "text/plain": [
       "__main__.dog"
      ]
     },
     "execution_count": 35,
     "metadata": {},
     "output_type": "execute_result"
    }
   ],
   "source": [
    "dog"
   ]
  },
  {
   "cell_type": "code",
   "execution_count": 36,
   "id": "214abf76",
   "metadata": {},
   "outputs": [],
   "source": [
    "sammy=dog(age=5,breed='husky',name='sam')"
   ]
  },
  {
   "cell_type": "code",
   "execution_count": 37,
   "id": "81b2efd1",
   "metadata": {},
   "outputs": [
    {
     "data": {
      "text/plain": [
       "__main__.dog"
      ]
     },
     "execution_count": 37,
     "metadata": {},
     "output_type": "execute_result"
    }
   ],
   "source": [
    "type(sammy)"
   ]
  },
  {
   "cell_type": "code",
   "execution_count": 38,
   "id": "d49f2b28",
   "metadata": {},
   "outputs": [
    {
     "data": {
      "text/plain": [
       "dog(age=5, breed='husky', name='sam')"
      ]
     },
     "execution_count": 38,
     "metadata": {},
     "output_type": "execute_result"
    }
   ],
   "source": [
    "sammy"
   ]
  },
  {
   "cell_type": "code",
   "execution_count": 39,
   "id": "95294afe",
   "metadata": {},
   "outputs": [
    {
     "data": {
      "text/plain": [
       "5"
      ]
     },
     "execution_count": 39,
     "metadata": {},
     "output_type": "execute_result"
    }
   ],
   "source": [
    "sammy.age"
   ]
  },
  {
   "cell_type": "code",
   "execution_count": 40,
   "id": "5473d665",
   "metadata": {},
   "outputs": [
    {
     "data": {
      "text/plain": [
       "5"
      ]
     },
     "execution_count": 40,
     "metadata": {},
     "output_type": "execute_result"
    }
   ],
   "source": [
    "sammy[0]"
   ]
  },
  {
   "cell_type": "code",
   "execution_count": 41,
   "id": "7ab52af2",
   "metadata": {},
   "outputs": [
    {
     "data": {
      "text/plain": [
       "'C:\\\\Users\\\\hp\\\\my python stuff'"
      ]
     },
     "execution_count": 41,
     "metadata": {},
     "output_type": "execute_result"
    }
   ],
   "source": [
    "pwd"
   ]
  },
  {
   "cell_type": "code",
   "execution_count": 42,
   "id": "2b350596",
   "metadata": {},
   "outputs": [],
   "source": [
    "f= open('practice.text','w+')\n",
    "f.write('This is a test string')\n",
    "f.close()"
   ]
  },
  {
   "cell_type": "code",
   "execution_count": 43,
   "id": "ff121b60",
   "metadata": {},
   "outputs": [],
   "source": [
    "import os "
   ]
  },
  {
   "cell_type": "code",
   "execution_count": 44,
   "id": "e7d8daf4",
   "metadata": {},
   "outputs": [
    {
     "data": {
      "text/plain": [
       "'C:\\\\Users\\\\hp\\\\my python stuff'"
      ]
     },
     "execution_count": 44,
     "metadata": {},
     "output_type": "execute_result"
    }
   ],
   "source": [
    "os.getcwd()"
   ]
  },
  {
   "cell_type": "code",
   "execution_count": 48,
   "id": "6631b4a5",
   "metadata": {},
   "outputs": [
    {
     "data": {
      "text/plain": [
       "['All Users',\n",
       " 'Default',\n",
       " 'Default User',\n",
       " 'desktop.ini',\n",
       " 'harry flask',\n",
       " 'hp',\n",
       " 'Public',\n",
       " 'websearchAPP']"
      ]
     },
     "execution_count": 48,
     "metadata": {},
     "output_type": "execute_result"
    }
   ],
   "source": [
    "os.listdir('C:\\\\Users')"
   ]
  },
  {
   "cell_type": "code",
   "execution_count": 49,
   "id": "b390c640",
   "metadata": {},
   "outputs": [
    {
     "data": {
      "text/plain": [
       "['.ipynb_checkpoints',\n",
       " 'card Game logic.ipynb',\n",
       " 'card games.ipynb',\n",
       " 'class.ipynb',\n",
       " 'CLASS1.ipynb',\n",
       " 'decorators.ipynb',\n",
       " 'exception handling.ipynb',\n",
       " 'file handling.ipynb',\n",
       " 'file handling2.ipynb',\n",
       " 'function project 3.ipynb',\n",
       " 'function project.ipynb',\n",
       " 'function solution level 1.ipynb',\n",
       " 'function.ipynb',\n",
       " 'function2.ipynb',\n",
       " 'function3.ipynb',\n",
       " 'function4.ipynb',\n",
       " 'function5.ipynb',\n",
       " 'functionproject.ipynb',\n",
       " 'functionUntitled7.ipynb',\n",
       " 'genrator.ipynb',\n",
       " 'inbuit module.ipynb',\n",
       " 'lambda.ipynb',\n",
       " 'LIST.ipynb',\n",
       " 'method function homework.ipynb',\n",
       " 'mkl.txt',\n",
       " 'myfile.txt',\n",
       " 'my_new_file.txt',\n",
       " 'nested statement and scope.ipynb',\n",
       " 'object oriented.ipynb',\n",
       " 'operator arthimatic.ipynb',\n",
       " 'polymorphism.ipynb',\n",
       " 'practice.text',\n",
       " 'print.ipynb',\n",
       " 'sec5.2',\n",
       " 'testfile',\n",
       " 'TICTACTOE.ipynb',\n",
       " 'Untitled.ipynb',\n",
       " 'Untitled1.ipynb',\n",
       " 'Untitled2.ipynb',\n",
       " 'Untitled3.ipynb',\n",
       " 'Untitled4.ipynb',\n",
       " 'Untitled5.ipynb',\n",
       " 'Untitled9.ipynb']"
      ]
     },
     "execution_count": 49,
     "metadata": {},
     "output_type": "execute_result"
    }
   ],
   "source": [
    "os.listdir()"
   ]
  },
  {
   "cell_type": "code",
   "execution_count": 50,
   "id": "2199ebd9",
   "metadata": {},
   "outputs": [],
   "source": [
    "import shutil"
   ]
  },
  {
   "cell_type": "code",
   "execution_count": 52,
   "id": "92efe853",
   "metadata": {},
   "outputs": [
    {
     "data": {
      "text/plain": [
       "'D:\\\\project folder\\\\practice.text'"
      ]
     },
     "execution_count": 52,
     "metadata": {},
     "output_type": "execute_result"
    }
   ],
   "source": [
    "shutil.move('practice.text','D:\\\\project folder')"
   ]
  },
  {
   "cell_type": "code",
   "execution_count": 53,
   "id": "4bc274a7",
   "metadata": {},
   "outputs": [
    {
     "data": {
      "text/plain": [
       "['.ipynb_checkpoints',\n",
       " 'card Game logic.ipynb',\n",
       " 'card games.ipynb',\n",
       " 'class.ipynb',\n",
       " 'CLASS1.ipynb',\n",
       " 'Complete-Python-3-Bootcamp-master',\n",
       " 'decorators.ipynb',\n",
       " 'exception handling.ipynb',\n",
       " 'file handling.ipynb',\n",
       " 'file handling2.ipynb',\n",
       " 'function project 3.ipynb',\n",
       " 'function project.ipynb',\n",
       " 'function solution level 1.ipynb',\n",
       " 'function.ipynb',\n",
       " 'function2.ipynb',\n",
       " 'function3.ipynb',\n",
       " 'function4.ipynb',\n",
       " 'function5.ipynb',\n",
       " 'functionproject.ipynb',\n",
       " 'functionUntitled7.ipynb',\n",
       " 'genrator.ipynb',\n",
       " 'inbuit module.ipynb',\n",
       " 'lambda.ipynb',\n",
       " 'LIST.ipynb',\n",
       " 'method function homework.ipynb',\n",
       " 'mkl.txt',\n",
       " 'myfile.txt',\n",
       " 'my_new_file.txt',\n",
       " 'nested statement and scope.ipynb',\n",
       " 'object oriented.ipynb',\n",
       " 'operator arthimatic.ipynb',\n",
       " 'polymorphism.ipynb',\n",
       " 'print.ipynb',\n",
       " 'sec5.2',\n",
       " 'testfile',\n",
       " 'TICTACTOE.ipynb',\n",
       " 'Untitled.ipynb',\n",
       " 'Untitled1.ipynb',\n",
       " 'Untitled2.ipynb',\n",
       " 'Untitled3.ipynb',\n",
       " 'Untitled4.ipynb',\n",
       " 'Untitled5.ipynb',\n",
       " 'Untitled6.ipynb',\n",
       " 'Untitled9.ipynb']"
      ]
     },
     "execution_count": 53,
     "metadata": {},
     "output_type": "execute_result"
    }
   ],
   "source": [
    "os.listdir()"
   ]
  },
  {
   "cell_type": "code",
   "execution_count": 54,
   "id": "aad9c8e8",
   "metadata": {},
   "outputs": [
    {
     "data": {
      "text/plain": [
       "['hello.py', 'practice.text']"
      ]
     },
     "execution_count": 54,
     "metadata": {},
     "output_type": "execute_result"
    }
   ],
   "source": [
    "os.listdir('D:\\\\project folder')"
   ]
  },
  {
   "cell_type": "code",
   "execution_count": 56,
   "id": "933859c4",
   "metadata": {},
   "outputs": [
    {
     "data": {
      "text/plain": [
       "'C:\\\\Users\\\\hp\\\\my python stuff\\\\practice.text'"
      ]
     },
     "execution_count": 56,
     "metadata": {},
     "output_type": "execute_result"
    }
   ],
   "source": [
    "shutil.move('D:\\\\project folder\\\\practice.text','C:\\\\Users\\\\hp\\\\my python stuff')"
   ]
  },
  {
   "cell_type": "code",
   "execution_count": 57,
   "id": "64968b2a",
   "metadata": {},
   "outputs": [
    {
     "data": {
      "text/plain": [
       "['hello.py']"
      ]
     },
     "execution_count": 57,
     "metadata": {},
     "output_type": "execute_result"
    }
   ],
   "source": [
    "os.listdir('D:\\\\project folder')"
   ]
  },
  {
   "cell_type": "code",
   "execution_count": 58,
   "id": "229f6041",
   "metadata": {},
   "outputs": [
    {
     "data": {
      "text/plain": [
       "['.ipynb_checkpoints',\n",
       " 'card Game logic.ipynb',\n",
       " 'card games.ipynb',\n",
       " 'class.ipynb',\n",
       " 'CLASS1.ipynb',\n",
       " 'Complete-Python-3-Bootcamp-master',\n",
       " 'decorators.ipynb',\n",
       " 'exception handling.ipynb',\n",
       " 'file handling.ipynb',\n",
       " 'file handling2.ipynb',\n",
       " 'function project 3.ipynb',\n",
       " 'function project.ipynb',\n",
       " 'function solution level 1.ipynb',\n",
       " 'function.ipynb',\n",
       " 'function2.ipynb',\n",
       " 'function3.ipynb',\n",
       " 'function4.ipynb',\n",
       " 'function5.ipynb',\n",
       " 'functionproject.ipynb',\n",
       " 'functionUntitled7.ipynb',\n",
       " 'genrator.ipynb',\n",
       " 'inbuit module.ipynb',\n",
       " 'lambda.ipynb',\n",
       " 'LIST.ipynb',\n",
       " 'method function homework.ipynb',\n",
       " 'mkl.txt',\n",
       " 'myfile.txt',\n",
       " 'my_new_file.txt',\n",
       " 'nested statement and scope.ipynb',\n",
       " 'object oriented.ipynb',\n",
       " 'operator arthimatic.ipynb',\n",
       " 'polymorphism.ipynb',\n",
       " 'practice.text',\n",
       " 'print.ipynb',\n",
       " 'sec5.2',\n",
       " 'testfile',\n",
       " 'TICTACTOE.ipynb',\n",
       " 'Untitled.ipynb',\n",
       " 'Untitled1.ipynb',\n",
       " 'Untitled2.ipynb',\n",
       " 'Untitled3.ipynb',\n",
       " 'Untitled4.ipynb',\n",
       " 'Untitled5.ipynb',\n",
       " 'Untitled6.ipynb',\n",
       " 'Untitled9.ipynb']"
      ]
     },
     "execution_count": 58,
     "metadata": {},
     "output_type": "execute_result"
    }
   ],
   "source": [
    "os.listdir()"
   ]
  },
  {
   "cell_type": "code",
   "execution_count": 59,
   "id": "b088766f",
   "metadata": {},
   "outputs": [],
   "source": [
    "import send2trash"
   ]
  },
  {
   "cell_type": "code",
   "execution_count": 61,
   "id": "799f8f47",
   "metadata": {},
   "outputs": [],
   "source": [
    "send2trash.send2trash('practice.text')"
   ]
  },
  {
   "cell_type": "code",
   "execution_count": 62,
   "id": "e51cdcf7",
   "metadata": {},
   "outputs": [
    {
     "data": {
      "text/plain": [
       "['.ipynb_checkpoints',\n",
       " 'card Game logic.ipynb',\n",
       " 'card games.ipynb',\n",
       " 'class.ipynb',\n",
       " 'CLASS1.ipynb',\n",
       " 'Complete-Python-3-Bootcamp-master',\n",
       " 'decorators.ipynb',\n",
       " 'exception handling.ipynb',\n",
       " 'file handling.ipynb',\n",
       " 'file handling2.ipynb',\n",
       " 'function project 3.ipynb',\n",
       " 'function project.ipynb',\n",
       " 'function solution level 1.ipynb',\n",
       " 'function.ipynb',\n",
       " 'function2.ipynb',\n",
       " 'function3.ipynb',\n",
       " 'function4.ipynb',\n",
       " 'function5.ipynb',\n",
       " 'functionproject.ipynb',\n",
       " 'functionUntitled7.ipynb',\n",
       " 'genrator.ipynb',\n",
       " 'inbuit module.ipynb',\n",
       " 'lambda.ipynb',\n",
       " 'LIST.ipynb',\n",
       " 'method function homework.ipynb',\n",
       " 'mkl.txt',\n",
       " 'myfile.txt',\n",
       " 'my_new_file.txt',\n",
       " 'nested statement and scope.ipynb',\n",
       " 'object oriented.ipynb',\n",
       " 'operator arthimatic.ipynb',\n",
       " 'polymorphism.ipynb',\n",
       " 'print.ipynb',\n",
       " 'sec5.2',\n",
       " 'testfile',\n",
       " 'TICTACTOE.ipynb',\n",
       " 'Untitled.ipynb',\n",
       " 'Untitled1.ipynb',\n",
       " 'Untitled2.ipynb',\n",
       " 'Untitled3.ipynb',\n",
       " 'Untitled4.ipynb',\n",
       " 'Untitled5.ipynb',\n",
       " 'Untitled6.ipynb',\n",
       " 'Untitled9.ipynb']"
      ]
     },
     "execution_count": 62,
     "metadata": {},
     "output_type": "execute_result"
    }
   ],
   "source": [
    "os.listdir()"
   ]
  },
  {
   "cell_type": "code",
   "execution_count": 1,
   "id": "6da74895",
   "metadata": {},
   "outputs": [
    {
     "ename": "NameError",
     "evalue": "name 'os' is not defined",
     "output_type": "error",
     "traceback": [
      "\u001b[1;31m---------------------------------------------------------------------------\u001b[0m",
      "\u001b[1;31mNameError\u001b[0m                                 Traceback (most recent call last)",
      "Input \u001b[1;32mIn [1]\u001b[0m, in \u001b[0;36m<cell line: 1>\u001b[1;34m()\u001b[0m\n\u001b[1;32m----> 1\u001b[0m \u001b[43mos\u001b[49m\u001b[38;5;241m.\u001b[39mgetcwd()\n",
      "\u001b[1;31mNameError\u001b[0m: name 'os' is not defined"
     ]
    }
   ],
   "source": [
    "os.getcwd()"
   ]
  },
  {
   "cell_type": "code",
   "execution_count": null,
   "id": "6b6a8f27",
   "metadata": {},
   "outputs": [],
   "source": []
  },
  {
   "cell_type": "code",
   "execution_count": null,
   "id": "b59f2afe",
   "metadata": {},
   "outputs": [],
   "source": []
  },
  {
   "cell_type": "code",
   "execution_count": null,
   "id": "44c5e65c",
   "metadata": {},
   "outputs": [],
   "source": []
  },
  {
   "cell_type": "code",
   "execution_count": null,
   "id": "d9c14616",
   "metadata": {},
   "outputs": [],
   "source": []
  },
  {
   "cell_type": "code",
   "execution_count": null,
   "id": "ecf8e0bb",
   "metadata": {},
   "outputs": [],
   "source": []
  },
  {
   "cell_type": "code",
   "execution_count": null,
   "id": "9c946986",
   "metadata": {},
   "outputs": [],
   "source": []
  },
  {
   "cell_type": "code",
   "execution_count": null,
   "id": "d568807f",
   "metadata": {},
   "outputs": [],
   "source": []
  }
 ],
 "metadata": {
  "kernelspec": {
   "display_name": "Python 3 (ipykernel)",
   "language": "python",
   "name": "python3"
  },
  "language_info": {
   "codemirror_mode": {
    "name": "ipython",
    "version": 3
   },
   "file_extension": ".py",
   "mimetype": "text/x-python",
   "name": "python",
   "nbconvert_exporter": "python",
   "pygments_lexer": "ipython3",
   "version": "3.9.12"
  }
 },
 "nbformat": 4,
 "nbformat_minor": 5
}
