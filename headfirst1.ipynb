{
 "cells": [
  {
   "cell_type": "code",
   "execution_count": 13,
   "id": "fb883eb6",
   "metadata": {},
   "outputs": [
    {
     "name": "stdout",
     "output_type": "stream",
     "text": [
      "minute is odd right now\n",
      "minute is odd right now\n",
      "minute is odd right now\n",
      "minute is odd right now\n",
      "minute is odd right now\n"
     ]
    }
   ],
   "source": [
    "from datetime import datetime\n",
    "import time\n",
    "import random\n",
    "odds=[]\n",
    "for number in range(61):\n",
    "    if number%2!=0:\n",
    "        odds.append(number)\n",
    "minute_now=datetime.today().minute\n",
    "for i in range(5):\n",
    "    \n",
    "    if minute_now in odds:\n",
    "        print('minute is odd right now')\n",
    "    else:\n",
    "        print('minute is even right now')\n",
    "    wait_time=random.randint(1,10)\n",
    "    time.sleep(wait_time)"
   ]
  },
  {
   "cell_type": "code",
   "execution_count": 9,
   "id": "c2c252d5",
   "metadata": {},
   "outputs": [
    {
     "data": {
      "text/plain": [
       "'C:\\\\Users\\\\hp\\\\my python stuff'"
      ]
     },
     "execution_count": 9,
     "metadata": {},
     "output_type": "execute_result"
    }
   ],
   "source": [
    "import os\n",
    "os.getcwd()"
   ]
  },
  {
   "cell_type": "code",
   "execution_count": 11,
   "id": "2b9dd87e",
   "metadata": {},
   "outputs": [
    {
     "data": {
      "text/plain": [
       "'win32'"
      ]
     },
     "execution_count": 11,
     "metadata": {},
     "output_type": "execute_result"
    }
   ],
   "source": [
    "import sys\n",
    "sys.platform"
   ]
  },
  {
   "cell_type": "code",
   "execution_count": 12,
   "id": "b873cdd8",
   "metadata": {},
   "outputs": [
    {
     "name": "stdout",
     "output_type": "stream",
     "text": [
      "3.9.12 (main, Apr  4 2022, 05:22:27) [MSC v.1916 64 bit (AMD64)]\n"
     ]
    }
   ],
   "source": [
    "print(sys.version)"
   ]
  },
  {
   "cell_type": "code",
   "execution_count": 13,
   "id": "ac3edfa4",
   "metadata": {},
   "outputs": [
    {
     "name": "stdout",
     "output_type": "stream",
     "text": [
      "environ({'ALLUSERSPROFILE': 'C:\\\\ProgramData', 'APPDATA': 'C:\\\\Users\\\\hp\\\\AppData\\\\Roaming', 'COMMONPROGRAMFILES': 'C:\\\\Program Files\\\\Common Files', 'COMMONPROGRAMFILES(X86)': 'C:\\\\Program Files (x86)\\\\Common Files', 'COMMONPROGRAMW6432': 'C:\\\\Program Files\\\\Common Files', 'COMPUTERNAME': 'LAPTOP-8PQ1QDKF', 'COMSPEC': 'C:\\\\WINDOWS\\\\system32\\\\cmd.exe', 'CONDA_DEFAULT_ENV': 'base', 'CONDA_EXE': 'C:\\\\Users\\\\hp\\\\anaconda3\\\\Scripts\\\\conda.exe', 'CONDA_PROMPT_MODIFIER': '(base) ', 'CONDA_PYTHON_EXE': 'C:\\\\Users\\\\hp\\\\anaconda3\\\\python.exe', 'CONDA_SHLVL': '1', 'DRIVERDATA': 'C:\\\\Windows\\\\System32\\\\Drivers\\\\DriverData', 'FPS_BROWSER_APP_PROFILE_STRING': 'Internet Explorer', 'FPS_BROWSER_USER_PROFILE_STRING': 'Default', 'HOMEDRIVE': 'C:', 'HOMEPATH': '\\\\Users\\\\hp', 'JAVA_HOME': 'C:\\\\Program Files\\\\Java\\\\jdk1.8.0_261', 'LOCALAPPDATA': 'C:\\\\Users\\\\hp\\\\AppData\\\\Local', 'LOGONSERVER': '\\\\\\\\LAPTOP-8PQ1QDKF', 'NUMBER_OF_PROCESSORS': '4', 'ONEDRIVE': 'C:\\\\Users\\\\hp\\\\OneDrive', 'ONEDRIVECONSUMER': 'C:\\\\Users\\\\hp\\\\OneDrive', 'ONLINESERVICES': 'Online Services', 'OS': 'Windows_NT', 'PATH': 'C:\\\\Users\\\\hp\\\\anaconda3;C:\\\\Users\\\\hp\\\\anaconda3\\\\Library\\\\mingw-w64\\\\bin;C:\\\\Users\\\\hp\\\\anaconda3\\\\Library\\\\usr\\\\bin;C:\\\\Users\\\\hp\\\\anaconda3\\\\Library\\\\bin;C:\\\\Users\\\\hp\\\\anaconda3\\\\Scripts;C:\\\\Users\\\\hp\\\\anaconda3\\\\bin;C:\\\\Users\\\\hp\\\\anaconda3\\\\condabin;C:\\\\Users\\\\hp\\\\anaconda3;C:\\\\Users\\\\hp\\\\anaconda3\\\\Library\\\\mingw-w64\\\\bin;C:\\\\Users\\\\hp\\\\anaconda3\\\\Library\\\\usr\\\\bin;C:\\\\Users\\\\hp\\\\anaconda3\\\\Library\\\\bin;C:\\\\Users\\\\hp\\\\anaconda3\\\\Scripts;C:\\\\WINDOWS\\\\system32;C:\\\\WINDOWS;C:\\\\WINDOWS\\\\System32\\\\Wbem;C:\\\\WINDOWS\\\\System32\\\\WindowsPowerShell\\\\v1.0;C:\\\\WINDOWS\\\\System32\\\\OpenSSH;C:\\\\Program Files\\\\Java\\\\jdk1.8.0_261\\\\bin;C:\\\\Users\\\\hp\\\\anaconda3;C:\\\\Users\\\\hp\\\\anaconda3\\\\Library\\\\mingw-w64\\\\bin;C:\\\\Users\\\\hp\\\\anaconda3\\\\Library\\\\usr\\\\bin;C:\\\\Users\\\\hp\\\\anaconda3\\\\Library\\\\bin;C:\\\\Users\\\\hp\\\\anaconda3\\\\Scripts;C:\\\\python\\\\New folder\\\\Scripts;C:\\\\python\\\\New folder;C:\\\\Users\\\\hp\\\\AppData\\\\Local\\\\Microsoft\\\\WindowsApps;C:\\\\Users\\\\hp\\\\AppData\\\\Local\\\\JetBrains\\\\PyCharm Community Edition 2022.2\\\\bin;.;C:\\\\Program Files\\\\JetBrains\\\\PyCharm 2022.1.4\\\\bin;.', 'PATHEXT': '.COM;.EXE;.BAT;.CMD;.VBS;.VBE;.JS;.JSE;.WSF;.WSH;.MSC', 'PLATFORMCODE': 'KV', 'PROCESSOR_ARCHITECTURE': 'AMD64', 'PROCESSOR_IDENTIFIER': 'Intel64 Family 6 Model 142 Stepping 9, GenuineIntel', 'PROCESSOR_LEVEL': '6', 'PROCESSOR_REVISION': '8e09', 'PROGRAMDATA': 'C:\\\\ProgramData', 'PROGRAMFILES': 'C:\\\\Program Files', 'PROGRAMFILES(X86)': 'C:\\\\Program Files (x86)', 'PROGRAMW6432': 'C:\\\\Program Files', 'PROMPT': '(base) $P$G', 'PSMODULEPATH': 'C:\\\\Program Files\\\\WindowsPowerShell\\\\Modules;C:\\\\WINDOWS\\\\system32\\\\WindowsPowerShell\\\\v1.0\\\\Modules', 'PUBLIC': 'C:\\\\Users\\\\Public', 'PYCHARM': 'C:\\\\Program Files\\\\JetBrains\\\\PyCharm 2022.1.4\\\\bin;', 'PYCHARM COMMUNITY EDITION': 'C:\\\\Users\\\\hp\\\\AppData\\\\Local\\\\JetBrains\\\\PyCharm Community Edition 2022.2\\\\bin;', 'REGIONCODE': 'APJ', 'SESSIONNAME': 'Console', 'SYSTEMDRIVE': 'C:', 'SYSTEMROOT': 'C:\\\\WINDOWS', 'TEMP': 'C:\\\\Users\\\\hp\\\\AppData\\\\Local\\\\Temp', 'TMP': 'C:\\\\Users\\\\hp\\\\AppData\\\\Local\\\\Temp', 'USERDOMAIN': 'LAPTOP-8PQ1QDKF', 'USERDOMAIN_ROAMINGPROFILE': 'LAPTOP-8PQ1QDKF', 'USERNAME': 'hp', 'USERPROFILE': 'C:\\\\Users\\\\hp', 'WINDIR': 'C:\\\\WINDOWS', 'CONDA_PREFIX': 'C:\\\\Users\\\\hp\\\\anaconda3', 'CONDA_ROOT': 'C:\\\\Users\\\\hp\\\\anaconda3', 'PYDEVD_USE_FRAME_EVAL': 'NO', 'JPY_INTERRUPT_EVENT': '2152', 'IPY_INTERRUPT_EVENT': '2152', 'JPY_PARENT_PID': '2636', 'TERM': 'xterm-color', 'CLICOLOR': '1', 'PAGER': 'cat', 'GIT_PAGER': 'cat', 'MPLBACKEND': 'module://matplotlib_inline.backend_inline'})\n"
     ]
    }
   ],
   "source": [
    "print(os.environ)"
   ]
  },
  {
   "cell_type": "code",
   "execution_count": 14,
   "id": "fdc4285d",
   "metadata": {},
   "outputs": [
    {
     "ename": "TypeError",
     "evalue": "'_Environ' object is not callable",
     "output_type": "error",
     "traceback": [
      "\u001b[1;31m---------------------------------------------------------------------------\u001b[0m",
      "\u001b[1;31mTypeError\u001b[0m                                 Traceback (most recent call last)",
      "Input \u001b[1;32mIn [14]\u001b[0m, in \u001b[0;36m<cell line: 1>\u001b[1;34m()\u001b[0m\n\u001b[1;32m----> 1\u001b[0m \u001b[38;5;28mprint\u001b[39m(\u001b[43mos\u001b[49m\u001b[38;5;241;43m.\u001b[39;49m\u001b[43menviron\u001b[49m\u001b[43m(\u001b[49m\u001b[38;5;124;43m'\u001b[39;49m\u001b[38;5;124;43mHOME\u001b[39;49m\u001b[38;5;124;43m'\u001b[39;49m\u001b[43m)\u001b[49m)\n",
      "\u001b[1;31mTypeError\u001b[0m: '_Environ' object is not callable"
     ]
    }
   ],
   "source": [
    "print(os.environ('HOME'))"
   ]
  },
  {
   "cell_type": "code",
   "execution_count": 15,
   "id": "c3238264",
   "metadata": {},
   "outputs": [],
   "source": [
    "import datetime"
   ]
  },
  {
   "cell_type": "code",
   "execution_count": 16,
   "id": "27c4f508",
   "metadata": {},
   "outputs": [
    {
     "name": "stdout",
     "output_type": "stream",
     "text": [
      "2022-08-09\n"
     ]
    }
   ],
   "source": [
    "print(datetime.date.today())"
   ]
  },
  {
   "cell_type": "code",
   "execution_count": 18,
   "id": "c7a22196",
   "metadata": {},
   "outputs": [
    {
     "name": "stdout",
     "output_type": "stream",
     "text": [
      "9\n"
     ]
    }
   ],
   "source": [
    "print(datetime.date.today().day)"
   ]
  },
  {
   "cell_type": "code",
   "execution_count": 19,
   "id": "aea84499",
   "metadata": {},
   "outputs": [
    {
     "name": "stdout",
     "output_type": "stream",
     "text": [
      "8\n"
     ]
    }
   ],
   "source": [
    "print(datetime.date.today().month)"
   ]
  },
  {
   "cell_type": "code",
   "execution_count": 20,
   "id": "cddd1081",
   "metadata": {},
   "outputs": [
    {
     "name": "stdout",
     "output_type": "stream",
     "text": [
      "2022\n"
     ]
    }
   ],
   "source": [
    "print(datetime.date.today().year)"
   ]
  },
  {
   "cell_type": "code",
   "execution_count": 21,
   "id": "503a44ca",
   "metadata": {},
   "outputs": [
    {
     "data": {
      "text/plain": [
       "'2022-08-09'"
      ]
     },
     "execution_count": 21,
     "metadata": {},
     "output_type": "execute_result"
    }
   ],
   "source": [
    "datetime.date.isoformat(datetime.date.today())"
   ]
  },
  {
   "cell_type": "code",
   "execution_count": 22,
   "id": "ec1bf513",
   "metadata": {},
   "outputs": [
    {
     "name": "stdout",
     "output_type": "stream",
     "text": [
      "10:54\n"
     ]
    }
   ],
   "source": [
    "import time\n",
    "print(time.strftime('%H:%M'))"
   ]
  },
  {
   "cell_type": "code",
   "execution_count": 24,
   "id": "d6d72eaf",
   "metadata": {},
   "outputs": [
    {
     "ename": "ValueError",
     "evalue": "Invalid format string",
     "output_type": "error",
     "traceback": [
      "\u001b[1;31m---------------------------------------------------------------------------\u001b[0m",
      "\u001b[1;31mValueError\u001b[0m                                Traceback (most recent call last)",
      "Input \u001b[1;32mIn [24]\u001b[0m, in \u001b[0;36m<cell line: 2>\u001b[1;34m()\u001b[0m\n\u001b[0;32m      1\u001b[0m \u001b[38;5;28;01mimport\u001b[39;00m \u001b[38;5;21;01mtime\u001b[39;00m\n\u001b[1;32m----> 2\u001b[0m \u001b[38;5;28mprint\u001b[39m(\u001b[43mtime\u001b[49m\u001b[38;5;241;43m.\u001b[39;49m\u001b[43mstrftime\u001b[49m\u001b[43m(\u001b[49m\u001b[38;5;124;43m'\u001b[39;49m\u001b[38;5;124;43m%\u001b[39;49m\u001b[38;5;124;43mA:\u001b[39;49m\u001b[38;5;124;43m%\u001b[39;49m\u001b[38;5;124;43mP\u001b[39;49m\u001b[38;5;124;43m'\u001b[39;49m\u001b[43m)\u001b[49m)\n",
      "\u001b[1;31mValueError\u001b[0m: Invalid format string"
     ]
    }
   ],
   "source": [
    "import time\n",
    "print(time.strftime('%A:%P'))"
   ]
  },
  {
   "cell_type": "code",
   "execution_count": 4,
   "id": "a9c6d8d3",
   "metadata": {},
   "outputs": [
    {
     "name": "stdout",
     "output_type": "stream",
     "text": [
      "print todays day : sunday\n",
      "provide your conditon : headache\n",
      "recover\n"
     ]
    }
   ],
   "source": [
    "today=input('print todays day : ')\n",
    "if today == 'saturday':\n",
    "    print('party')\n",
    "elif today == 'sunday':\n",
    "    condition=input('provide your conditon : ')\n",
    "    if condition == 'headache':\n",
    "        print('recover')\n",
    "    else:\n",
    "        print('rest')\n",
    "else:\n",
    "    print('work work')"
   ]
  },
  {
   "cell_type": "code",
   "execution_count": 5,
   "id": "484d3bc6",
   "metadata": {},
   "outputs": [
    {
     "name": "stdout",
     "output_type": "stream",
     "text": [
      "headfirst rocks\n",
      "headfirst rocks\n",
      "headfirst rocks\n",
      "headfirst rocks\n",
      "headfirst rocks\n"
     ]
    }
   ],
   "source": [
    "for num in range(5):\n",
    "    print('headfirst rocks')"
   ]
  },
  {
   "cell_type": "code",
   "execution_count": 6,
   "id": "091eb6e9",
   "metadata": {},
   "outputs": [
    {
     "data": {
      "text/plain": [
       "['BPF',\n",
       " 'LOG4',\n",
       " 'NV_MAGICCONST',\n",
       " 'RECIP_BPF',\n",
       " 'Random',\n",
       " 'SG_MAGICCONST',\n",
       " 'SystemRandom',\n",
       " 'TWOPI',\n",
       " '_Sequence',\n",
       " '_Set',\n",
       " '__all__',\n",
       " '__builtins__',\n",
       " '__cached__',\n",
       " '__doc__',\n",
       " '__file__',\n",
       " '__loader__',\n",
       " '__name__',\n",
       " '__package__',\n",
       " '__spec__',\n",
       " '_accumulate',\n",
       " '_acos',\n",
       " '_bisect',\n",
       " '_ceil',\n",
       " '_cos',\n",
       " '_e',\n",
       " '_exp',\n",
       " '_floor',\n",
       " '_inst',\n",
       " '_log',\n",
       " '_os',\n",
       " '_pi',\n",
       " '_random',\n",
       " '_repeat',\n",
       " '_sha512',\n",
       " '_sin',\n",
       " '_sqrt',\n",
       " '_test',\n",
       " '_test_generator',\n",
       " '_urandom',\n",
       " '_warn',\n",
       " 'betavariate',\n",
       " 'choice',\n",
       " 'choices',\n",
       " 'expovariate',\n",
       " 'gammavariate',\n",
       " 'gauss',\n",
       " 'getrandbits',\n",
       " 'getstate',\n",
       " 'lognormvariate',\n",
       " 'normalvariate',\n",
       " 'paretovariate',\n",
       " 'randbytes',\n",
       " 'randint',\n",
       " 'random',\n",
       " 'randrange',\n",
       " 'sample',\n",
       " 'seed',\n",
       " 'setstate',\n",
       " 'shuffle',\n",
       " 'triangular',\n",
       " 'uniform',\n",
       " 'vonmisesvariate',\n",
       " 'weibullvariate']"
      ]
     },
     "execution_count": 6,
     "metadata": {},
     "output_type": "execute_result"
    }
   ],
   "source": [
    "import random\n",
    "dir(random)"
   ]
  },
  {
   "cell_type": "code",
   "execution_count": 7,
   "id": "32f73fdb",
   "metadata": {},
   "outputs": [
    {
     "name": "stdout",
     "output_type": "stream",
     "text": [
      "Help on method setstate in module random:\n",
      "\n",
      "setstate(state) method of random.Random instance\n",
      "    Restore internal state from object returned by getstate().\n",
      "\n"
     ]
    }
   ],
   "source": [
    "help(random.setstate)"
   ]
  },
  {
   "cell_type": "code",
   "execution_count": 8,
   "id": "c5600143",
   "metadata": {},
   "outputs": [
    {
     "name": "stdout",
     "output_type": "stream",
     "text": [
      "Help on method getstate in module random:\n",
      "\n",
      "getstate() method of random.Random instance\n",
      "    Return internal state; can be passed to setstate() later.\n",
      "\n"
     ]
    }
   ],
   "source": [
    "help(random.getstate)"
   ]
  },
  {
   "cell_type": "code",
   "execution_count": 9,
   "id": "a9ffe720",
   "metadata": {},
   "outputs": [
    {
     "name": "stdout",
     "output_type": "stream",
     "text": [
      "Help on method randint in module random:\n",
      "\n",
      "randint(a, b) method of random.Random instance\n",
      "    Return random integer in range [a, b], including both end points.\n",
      "\n"
     ]
    }
   ],
   "source": [
    "help(random.randint)"
   ]
  },
  {
   "cell_type": "code",
   "execution_count": 10,
   "id": "b0e2fecd",
   "metadata": {},
   "outputs": [
    {
     "data": {
      "text/plain": [
       "6"
      ]
     },
     "execution_count": 10,
     "metadata": {},
     "output_type": "execute_result"
    }
   ],
   "source": [
    "random.randint(1,32) "
   ]
  },
  {
   "cell_type": "code",
   "execution_count": 15,
   "id": "78c31a6e",
   "metadata": {},
   "outputs": [
    {
     "name": "stdout",
     "output_type": "stream",
     "text": [
      "99 bottles of beer on the wall\n",
      "99 bottles of beer\n",
      "take one down\n",
      "pass it around\n",
      "\n",
      "98 bottles of beer on the wall\n",
      "98 bottles of beer\n",
      "take one down\n",
      "pass it around\n",
      "\n",
      "97 bottles of beer on the wall\n",
      "97 bottles of beer\n",
      "take one down\n",
      "pass it around\n",
      "\n",
      "96 bottles of beer on the wall\n",
      "96 bottles of beer\n",
      "take one down\n",
      "pass it around\n",
      "\n",
      "95 bottles of beer on the wall\n",
      "95 bottles of beer\n",
      "take one down\n",
      "pass it around\n",
      "\n",
      "94 bottles of beer on the wall\n",
      "94 bottles of beer\n",
      "take one down\n",
      "pass it around\n",
      "\n",
      "93 bottles of beer on the wall\n",
      "93 bottles of beer\n",
      "take one down\n",
      "pass it around\n",
      "\n",
      "92 bottles of beer on the wall\n",
      "92 bottles of beer\n",
      "take one down\n",
      "pass it around\n",
      "\n",
      "91 bottles of beer on the wall\n",
      "91 bottles of beer\n",
      "take one down\n",
      "pass it around\n",
      "\n",
      "90 bottles of beer on the wall\n",
      "90 bottles of beer\n",
      "take one down\n",
      "pass it around\n",
      "\n",
      "89 bottles of beer on the wall\n",
      "89 bottles of beer\n",
      "take one down\n",
      "pass it around\n",
      "\n",
      "88 bottles of beer on the wall\n",
      "88 bottles of beer\n",
      "take one down\n",
      "pass it around\n",
      "\n",
      "87 bottles of beer on the wall\n",
      "87 bottles of beer\n",
      "take one down\n",
      "pass it around\n",
      "\n",
      "86 bottles of beer on the wall\n",
      "86 bottles of beer\n",
      "take one down\n",
      "pass it around\n",
      "\n",
      "85 bottles of beer on the wall\n",
      "85 bottles of beer\n",
      "take one down\n",
      "pass it around\n",
      "\n",
      "84 bottles of beer on the wall\n",
      "84 bottles of beer\n",
      "take one down\n",
      "pass it around\n",
      "\n",
      "83 bottles of beer on the wall\n",
      "83 bottles of beer\n",
      "take one down\n",
      "pass it around\n",
      "\n",
      "82 bottles of beer on the wall\n",
      "82 bottles of beer\n",
      "take one down\n",
      "pass it around\n",
      "\n",
      "81 bottles of beer on the wall\n",
      "81 bottles of beer\n",
      "take one down\n",
      "pass it around\n",
      "\n",
      "80 bottles of beer on the wall\n",
      "80 bottles of beer\n",
      "take one down\n",
      "pass it around\n",
      "\n",
      "79 bottles of beer on the wall\n",
      "79 bottles of beer\n",
      "take one down\n",
      "pass it around\n",
      "\n",
      "78 bottles of beer on the wall\n",
      "78 bottles of beer\n",
      "take one down\n",
      "pass it around\n",
      "\n",
      "77 bottles of beer on the wall\n",
      "77 bottles of beer\n",
      "take one down\n",
      "pass it around\n",
      "\n",
      "76 bottles of beer on the wall\n",
      "76 bottles of beer\n",
      "take one down\n",
      "pass it around\n",
      "\n",
      "75 bottles of beer on the wall\n",
      "75 bottles of beer\n",
      "take one down\n",
      "pass it around\n",
      "\n",
      "74 bottles of beer on the wall\n",
      "74 bottles of beer\n",
      "take one down\n",
      "pass it around\n",
      "\n",
      "73 bottles of beer on the wall\n",
      "73 bottles of beer\n",
      "take one down\n",
      "pass it around\n",
      "\n",
      "72 bottles of beer on the wall\n",
      "72 bottles of beer\n",
      "take one down\n",
      "pass it around\n",
      "\n",
      "71 bottles of beer on the wall\n",
      "71 bottles of beer\n",
      "take one down\n",
      "pass it around\n",
      "\n",
      "70 bottles of beer on the wall\n",
      "70 bottles of beer\n",
      "take one down\n",
      "pass it around\n",
      "\n",
      "69 bottles of beer on the wall\n",
      "69 bottles of beer\n",
      "take one down\n",
      "pass it around\n",
      "\n",
      "68 bottles of beer on the wall\n",
      "68 bottles of beer\n",
      "take one down\n",
      "pass it around\n",
      "\n",
      "67 bottles of beer on the wall\n",
      "67 bottles of beer\n",
      "take one down\n",
      "pass it around\n",
      "\n",
      "66 bottles of beer on the wall\n",
      "66 bottles of beer\n",
      "take one down\n",
      "pass it around\n",
      "\n",
      "65 bottles of beer on the wall\n",
      "65 bottles of beer\n",
      "take one down\n",
      "pass it around\n",
      "\n",
      "64 bottles of beer on the wall\n",
      "64 bottles of beer\n",
      "take one down\n",
      "pass it around\n",
      "\n",
      "63 bottles of beer on the wall\n",
      "63 bottles of beer\n",
      "take one down\n",
      "pass it around\n",
      "\n",
      "62 bottles of beer on the wall\n",
      "62 bottles of beer\n",
      "take one down\n",
      "pass it around\n",
      "\n",
      "61 bottles of beer on the wall\n",
      "61 bottles of beer\n",
      "take one down\n",
      "pass it around\n",
      "\n",
      "60 bottles of beer on the wall\n",
      "60 bottles of beer\n",
      "take one down\n",
      "pass it around\n",
      "\n",
      "59 bottles of beer on the wall\n",
      "59 bottles of beer\n",
      "take one down\n",
      "pass it around\n",
      "\n",
      "58 bottles of beer on the wall\n",
      "58 bottles of beer\n",
      "take one down\n",
      "pass it around\n",
      "\n",
      "57 bottles of beer on the wall\n",
      "57 bottles of beer\n",
      "take one down\n",
      "pass it around\n",
      "\n",
      "56 bottles of beer on the wall\n",
      "56 bottles of beer\n",
      "take one down\n",
      "pass it around\n",
      "\n",
      "55 bottles of beer on the wall\n",
      "55 bottles of beer\n",
      "take one down\n",
      "pass it around\n",
      "\n",
      "54 bottles of beer on the wall\n",
      "54 bottles of beer\n",
      "take one down\n",
      "pass it around\n",
      "\n",
      "53 bottles of beer on the wall\n",
      "53 bottles of beer\n",
      "take one down\n",
      "pass it around\n",
      "\n",
      "52 bottles of beer on the wall\n",
      "52 bottles of beer\n",
      "take one down\n",
      "pass it around\n",
      "\n",
      "51 bottles of beer on the wall\n",
      "51 bottles of beer\n",
      "take one down\n",
      "pass it around\n",
      "\n",
      "50 bottles of beer on the wall\n",
      "50 bottles of beer\n",
      "take one down\n",
      "pass it around\n",
      "\n",
      "49 bottles of beer on the wall\n",
      "49 bottles of beer\n",
      "take one down\n",
      "pass it around\n",
      "\n",
      "48 bottles of beer on the wall\n",
      "48 bottles of beer\n",
      "take one down\n",
      "pass it around\n",
      "\n",
      "47 bottles of beer on the wall\n",
      "47 bottles of beer\n",
      "take one down\n",
      "pass it around\n",
      "\n",
      "46 bottles of beer on the wall\n",
      "46 bottles of beer\n",
      "take one down\n",
      "pass it around\n",
      "\n",
      "45 bottles of beer on the wall\n",
      "45 bottles of beer\n",
      "take one down\n",
      "pass it around\n",
      "\n",
      "44 bottles of beer on the wall\n",
      "44 bottles of beer\n",
      "take one down\n",
      "pass it around\n",
      "\n",
      "43 bottles of beer on the wall\n",
      "43 bottles of beer\n",
      "take one down\n",
      "pass it around\n",
      "\n",
      "42 bottles of beer on the wall\n",
      "42 bottles of beer\n",
      "take one down\n",
      "pass it around\n",
      "\n",
      "41 bottles of beer on the wall\n",
      "41 bottles of beer\n",
      "take one down\n",
      "pass it around\n",
      "\n",
      "40 bottles of beer on the wall\n",
      "40 bottles of beer\n",
      "take one down\n",
      "pass it around\n",
      "\n",
      "39 bottles of beer on the wall\n",
      "39 bottles of beer\n",
      "take one down\n",
      "pass it around\n",
      "\n",
      "38 bottles of beer on the wall\n",
      "38 bottles of beer\n",
      "take one down\n",
      "pass it around\n",
      "\n",
      "37 bottles of beer on the wall\n",
      "37 bottles of beer\n",
      "take one down\n",
      "pass it around\n",
      "\n",
      "36 bottles of beer on the wall\n",
      "36 bottles of beer\n",
      "take one down\n",
      "pass it around\n",
      "\n",
      "35 bottles of beer on the wall\n",
      "35 bottles of beer\n",
      "take one down\n",
      "pass it around\n",
      "\n",
      "34 bottles of beer on the wall\n",
      "34 bottles of beer\n",
      "take one down\n",
      "pass it around\n",
      "\n",
      "33 bottles of beer on the wall\n",
      "33 bottles of beer\n",
      "take one down\n",
      "pass it around\n",
      "\n",
      "32 bottles of beer on the wall\n",
      "32 bottles of beer\n",
      "take one down\n",
      "pass it around\n",
      "\n",
      "31 bottles of beer on the wall\n",
      "31 bottles of beer\n",
      "take one down\n",
      "pass it around\n",
      "\n",
      "30 bottles of beer on the wall\n",
      "30 bottles of beer\n",
      "take one down\n",
      "pass it around\n",
      "\n",
      "29 bottles of beer on the wall\n",
      "29 bottles of beer\n",
      "take one down\n",
      "pass it around\n",
      "\n",
      "28 bottles of beer on the wall\n",
      "28 bottles of beer\n",
      "take one down\n",
      "pass it around\n",
      "\n",
      "27 bottles of beer on the wall\n",
      "27 bottles of beer\n",
      "take one down\n",
      "pass it around\n",
      "\n",
      "26 bottles of beer on the wall\n",
      "26 bottles of beer\n",
      "take one down\n",
      "pass it around\n",
      "\n",
      "25 bottles of beer on the wall\n",
      "25 bottles of beer\n",
      "take one down\n",
      "pass it around\n",
      "\n",
      "24 bottles of beer on the wall\n",
      "24 bottles of beer\n",
      "take one down\n",
      "pass it around\n",
      "\n",
      "23 bottles of beer on the wall\n",
      "23 bottles of beer\n",
      "take one down\n",
      "pass it around\n",
      "\n",
      "22 bottles of beer on the wall\n",
      "22 bottles of beer\n",
      "take one down\n",
      "pass it around\n",
      "\n",
      "21 bottles of beer on the wall\n",
      "21 bottles of beer\n",
      "take one down\n",
      "pass it around\n",
      "\n",
      "20 bottles of beer on the wall\n",
      "20 bottles of beer\n",
      "take one down\n",
      "pass it around\n",
      "\n",
      "19 bottles of beer on the wall\n",
      "19 bottles of beer\n",
      "take one down\n",
      "pass it around\n",
      "\n",
      "18 bottles of beer on the wall\n",
      "18 bottles of beer\n",
      "take one down\n",
      "pass it around\n",
      "\n",
      "17 bottles of beer on the wall\n",
      "17 bottles of beer\n",
      "take one down\n",
      "pass it around\n",
      "\n",
      "16 bottles of beer on the wall\n",
      "16 bottles of beer\n",
      "take one down\n",
      "pass it around\n",
      "\n",
      "15 bottles of beer on the wall\n",
      "15 bottles of beer\n",
      "take one down\n",
      "pass it around\n",
      "\n",
      "14 bottles of beer on the wall\n",
      "14 bottles of beer\n",
      "take one down\n",
      "pass it around\n",
      "\n",
      "13 bottles of beer on the wall\n",
      "13 bottles of beer\n",
      "take one down\n",
      "pass it around\n",
      "\n",
      "12 bottles of beer on the wall\n",
      "12 bottles of beer\n",
      "take one down\n",
      "pass it around\n",
      "\n",
      "11 bottles of beer on the wall\n",
      "11 bottles of beer\n",
      "take one down\n",
      "pass it around\n",
      "\n",
      "10 bottles of beer on the wall\n",
      "10 bottles of beer\n",
      "take one down\n",
      "pass it around\n",
      "\n",
      "9 bottles of beer on the wall\n",
      "9 bottles of beer\n",
      "take one down\n",
      "pass it around\n",
      "\n",
      "8 bottles of beer on the wall\n",
      "8 bottles of beer\n",
      "take one down\n",
      "pass it around\n",
      "\n",
      "7 bottles of beer on the wall\n",
      "7 bottles of beer\n",
      "take one down\n",
      "pass it around\n",
      "\n",
      "6 bottles of beer on the wall\n",
      "6 bottles of beer\n",
      "take one down\n",
      "pass it around\n",
      "\n",
      "5 bottles of beer on the wall\n",
      "5 bottles of beer\n",
      "take one down\n",
      "pass it around\n",
      "\n",
      "4 bottles of beer on the wall\n",
      "4 bottles of beer\n",
      "take one down\n",
      "pass it around\n",
      "\n",
      "3 bottles of beer on the wall\n",
      "3 bottles of beer\n",
      "take one down\n",
      "pass it around\n",
      "\n",
      "2 bottles of beer on the wall\n",
      "2 bottles of beer\n",
      "take one down\n",
      "pass it around\n",
      "1 bottle of beer on the wall\n",
      "\n",
      "1 bottle of beer on the wall\n",
      "1 bottle of beer\n",
      "take one down\n",
      "pass it around\n",
      "no more bottles on the wall\n",
      "\n"
     ]
    }
   ],
   "source": [
    "word='bottles'\n",
    "for beer_num in range(99,0,-1):\n",
    "    print(beer_num,word,'of beer on the wall')\n",
    "    print(beer_num,word,'of beer')\n",
    "    print('take one down')\n",
    "    print('pass it around')\n",
    "    if beer_num==1:\n",
    "        print('no more bottles on the wall')\n",
    "    else:\n",
    "        new_num= beer_num-1\n",
    "        if new_num==1:\n",
    "            word='bottle'\n",
    "            print(new_num,word,'of beer on the wall')\n",
    "    print()         "
   ]
  },
  {
   "cell_type": "code",
   "execution_count": 22,
   "id": "151d5e8e",
   "metadata": {},
   "outputs": [
    {
     "name": "stdout",
     "output_type": "stream",
     "text": [
      "['i', 'i', 'a']\n",
      "i i a "
     ]
    }
   ],
   "source": [
    "vowels=['a','e','i','e','o','u']\n",
    "word='milliways'\n",
    "found=[]\n",
    "for letter in word:\n",
    "    if letter in vowels:\n",
    "        found.append(letter)\n",
    "print(found)\n",
    "for vowels in found:\n",
    "    print(vowels,end=' ')"
   ]
  },
  {
   "cell_type": "code",
   "execution_count": 24,
   "id": "89206f5e",
   "metadata": {},
   "outputs": [
    {
     "name": "stdout",
     "output_type": "stream",
     "text": [
      "[1, 2, 4, 6]\n"
     ]
    }
   ],
   "source": [
    "a=[1,2,3,4,6]\n",
    "a.remove(3)\n",
    "print(a)"
   ]
  },
  {
   "cell_type": "code",
   "execution_count": 25,
   "id": "69e7ce2a",
   "metadata": {},
   "outputs": [
    {
     "data": {
      "text/plain": [
       "6"
      ]
     },
     "execution_count": 25,
     "metadata": {},
     "output_type": "execute_result"
    }
   ],
   "source": [
    "a.pop()"
   ]
  },
  {
   "cell_type": "code",
   "execution_count": 26,
   "id": "36490fbf",
   "metadata": {},
   "outputs": [
    {
     "data": {
      "text/plain": [
       "1"
      ]
     },
     "execution_count": 26,
     "metadata": {},
     "output_type": "execute_result"
    }
   ],
   "source": [
    "a.pop(0)"
   ]
  },
  {
   "cell_type": "code",
   "execution_count": 27,
   "id": "1b5d9686",
   "metadata": {},
   "outputs": [
    {
     "name": "stdout",
     "output_type": "stream",
     "text": [
      "[2, 4]\n"
     ]
    }
   ],
   "source": [
    "print(a)"
   ]
  },
  {
   "cell_type": "code",
   "execution_count": 28,
   "id": "fc5db299",
   "metadata": {},
   "outputs": [],
   "source": [
    "a.insert(1,85)\n",
    "a.insert(0,55)"
   ]
  },
  {
   "cell_type": "code",
   "execution_count": 29,
   "id": "c5c0a900",
   "metadata": {},
   "outputs": [
    {
     "data": {
      "text/plain": [
       "[55, 2, 85, 4]"
      ]
     },
     "execution_count": 29,
     "metadata": {},
     "output_type": "execute_result"
    }
   ],
   "source": [
    "a"
   ]
  },
  {
   "cell_type": "code",
   "execution_count": 30,
   "id": "9c035e02",
   "metadata": {},
   "outputs": [
    {
     "name": "stdout",
     "output_type": "stream",
     "text": [
      "[55, 2, 85, 4, 'a', 'b', 'c']\n"
     ]
    }
   ],
   "source": [
    "b=['a','b','c']\n",
    "a.extend(b)\n",
    "print(a)"
   ]
  },
  {
   "cell_type": "code",
   "execution_count": 37,
   "id": "2d110b1d",
   "metadata": {},
   "outputs": [
    {
     "name": "stdout",
     "output_type": "stream",
     "text": [
      "['d', 'o', 'n', \"'\", 't', ' ', 'p', 'a', 'n', 'i', 'c']\n"
     ]
    }
   ],
   "source": [
    "phrase=\"don't panic\"\n",
    "plist=list(phrase)\n",
    "print(plist)"
   ]
  },
  {
   "cell_type": "code",
   "execution_count": null,
   "id": "6e29ecb1",
   "metadata": {},
   "outputs": [],
   "source": []
  },
  {
   "cell_type": "code",
   "execution_count": null,
   "id": "65b0e9d4",
   "metadata": {},
   "outputs": [],
   "source": []
  },
  {
   "cell_type": "code",
   "execution_count": 38,
   "id": "f2fe1a51",
   "metadata": {},
   "outputs": [
    {
     "data": {
      "text/plain": [
       "'d'"
      ]
     },
     "execution_count": 38,
     "metadata": {},
     "output_type": "execute_result"
    }
   ],
   "source": [
    "for i in  range(3):\n",
    "    plist.pop()\n",
    "plist.remove(\"'\")\n",
    "plist.pop(0)\n",
    "    "
   ]
  },
  {
   "cell_type": "code",
   "execution_count": 39,
   "id": "8deb3f08",
   "metadata": {},
   "outputs": [
    {
     "name": "stdout",
     "output_type": "stream",
     "text": [
      "['o', 'n', 't', ' ', 'p', 'a']\n"
     ]
    }
   ],
   "source": [
    "print(plist)"
   ]
  },
  {
   "cell_type": "code",
   "execution_count": 44,
   "id": "8ca6656a",
   "metadata": {},
   "outputs": [
    {
     "name": "stdout",
     "output_type": "stream",
     "text": [
      "['o', 'n', ' ', 't', 'a', 'p']\n"
     ]
    }
   ],
   "source": [
    "plist.extend([plist.pop(),plist.pop()])\n",
    "print(plist)"
   ]
  },
  {
   "cell_type": "code",
   "execution_count": 45,
   "id": "ca9a1fd1",
   "metadata": {},
   "outputs": [
    {
     "name": "stdout",
     "output_type": "stream",
     "text": [
      "on tap\n"
     ]
    }
   ],
   "source": [
    "new_phrase=''.join(plist)\n",
    "print(new_phrase)"
   ]
  },
  {
   "cell_type": "code",
   "execution_count": 2,
   "id": "70781d40",
   "metadata": {},
   "outputs": [
    {
     "name": "stdout",
     "output_type": "stream",
     "text": [
      "a [1, 2, 3, 4]\n",
      "b [1, 2, 3, 4]\n",
      "b [1, 2, 3, 4, 88, 86]\n",
      "a [1, 2, 3, 4, 88, 86]\n",
      "a [1, 2, 3, 4, 88, 86, 44, 45]\n",
      "c [1, 2, 3, 4, 88, 86]\n"
     ]
    }
   ],
   "source": [
    "a=[1,2,3,4]\n",
    "print('a',a)\n",
    "b=a\n",
    "print('b',b)\n",
    "a.extend([88,86])\n",
    "print('b',b)\n",
    "print('a',a)\n",
    "c=a.copy()\n",
    "a.extend([44,45])\n",
    "print('a',a)\n",
    "print('c',c)"
   ]
  },
  {
   "cell_type": "code",
   "execution_count": 6,
   "id": "f452395c",
   "metadata": {},
   "outputs": [
    {
     "name": "stdout",
     "output_type": "stream",
     "text": [
      "don't panic\n",
      "['d', 'o', 'n', \"'\", 't', ' ', 'p', 'a', 'n', 'i', 'c']\n",
      "on tap\n"
     ]
    }
   ],
   "source": [
    "phrase=\"don't panic\"\n",
    "print(phrase)\n",
    "plist=list(phrase)\n",
    "print(plist)\n",
    "new_phrase=''.join(plist[1:3])\n",
    "new_phrase=new_phrase+''.join([plist[5],plist[4],plist[7],plist[6]])\n",
    "print(new_phrase)"
   ]
  },
  {
   "cell_type": "code",
   "execution_count": 8,
   "id": "1af50025",
   "metadata": {},
   "outputs": [
    {
     "name": "stdout",
     "output_type": "stream",
     "text": [
      "\t m\n",
      "\t a\n",
      "\t r\n",
      "\t v\n",
      "\t i\n",
      "\t n\n"
     ]
    }
   ],
   "source": [
    "paranoid_android='marvin'\n",
    "letter=list(paranoid_android)\n",
    "for char in letter:\n",
    "    print('\\t',char)\n",
    "    "
   ]
  },
  {
   "cell_type": "code",
   "execution_count": 10,
   "id": "2042f220",
   "metadata": {},
   "outputs": [
    {
     "name": "stdout",
     "output_type": "stream",
     "text": [
      "\t m\n",
      "\t a\n",
      "\t r\n",
      "\t v\n",
      "\t i\n",
      "\t n\n",
      "\t\t p\n",
      "\t\t a\n",
      "\t\t r\n",
      "\t\t a\n",
      "\t\t n\n",
      "\t\t o\n",
      "\t\t i\n",
      "\t\t d\n",
      "\t\t\t  \n",
      "\t\t\t a\n",
      "\t\t\t n\n",
      "\t\t\t d\n",
      "\t\t\t r\n",
      "\t\t\t o\n",
      "\t\t\t i\n",
      "\t\t\t d\n"
     ]
    }
   ],
   "source": [
    "paranoid_android='marvin the paranoid android'\n",
    "letters=list(paranoid_android)\n",
    "for char in letters[:6]:\n",
    "    print('\\t',char)\n",
    "for char in letters[11:19]:\n",
    "    print('\\t'*2,char)\n",
    "for char in letters[-8:]:\n",
    "    print('\\t'*3,char)\n"
   ]
  },
  {
   "cell_type": "code",
   "execution_count": null,
   "id": "684c37d7",
   "metadata": {},
   "outputs": [],
   "source": []
  },
  {
   "cell_type": "code",
   "execution_count": null,
   "id": "62a2bbf9",
   "metadata": {},
   "outputs": [],
   "source": []
  },
  {
   "cell_type": "code",
   "execution_count": null,
   "id": "b3de369c",
   "metadata": {},
   "outputs": [],
   "source": []
  },
  {
   "cell_type": "code",
   "execution_count": null,
   "id": "20be59a5",
   "metadata": {},
   "outputs": [],
   "source": []
  },
  {
   "cell_type": "code",
   "execution_count": null,
   "id": "cf0cf3cd",
   "metadata": {},
   "outputs": [],
   "source": []
  },
  {
   "cell_type": "code",
   "execution_count": null,
   "id": "65ac8ba8",
   "metadata": {},
   "outputs": [],
   "source": []
  }
 ],
 "metadata": {
  "kernelspec": {
   "display_name": "Python 3 (ipykernel)",
   "language": "python",
   "name": "python3"
  },
  "language_info": {
   "codemirror_mode": {
    "name": "ipython",
    "version": 3
   },
   "file_extension": ".py",
   "mimetype": "text/x-python",
   "name": "python",
   "nbconvert_exporter": "python",
   "pygments_lexer": "ipython3",
   "version": "3.9.12"
  }
 },
 "nbformat": 4,
 "nbformat_minor": 5
}
